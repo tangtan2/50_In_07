{
 "cells": [
  {
   "cell_type": "markdown",
   "metadata": {},
   "source": [
    "# Characterization of Raw Data from NHL API\n",
    "___"
   ]
  },
  {
   "cell_type": "code",
   "execution_count": 22,
   "metadata": {},
   "outputs": [],
   "source": [
    "import os\n",
    "import findspark\n",
    "import pyspark\n",
    "import matplotlib.pyplot as plt\n",
    "import numpy as np\n",
    "import scipy as sp"
   ]
  },
  {
   "cell_type": "code",
   "execution_count": 2,
   "metadata": {},
   "outputs": [],
   "source": [
    "# start spark\n",
    "os.environ[\"JAVA_HOME\"] = \"/Library/Java/JavaVirtualMachines/jdk1.8.0_231.jdk/Contents/Home/\"\n",
    "os.environ[\"JRE_HOME\"] = \"/Library/Java/JavaVirtualMachines/jdk1.8.0_231.jdk/Contents/Home/\"\n",
    "findspark.init(\"/usr/local/Cellar/apache-spark/2.4.5/libexec/\")\n",
    "spark = pyspark.sql\\\n",
    "        .SparkSession\\\n",
    "        .builder\\\n",
    "        .appName('hockey')\\\n",
    "        .config('spark.jars', '/Users/tanyatang/Documents/Code/resources/postgresql/postgresql-42.2.12.jar')\\\n",
    "        .getOrCreate()"
   ]
  },
  {
   "cell_type": "code",
   "execution_count": 3,
   "metadata": {},
   "outputs": [
    {
     "name": "stdout",
     "output_type": "stream",
     "text": [
      "root\n",
      " |-- game_id: integer (nullable = true)\n",
      " |-- season: integer (nullable = true)\n",
      " |-- type: string (nullable = true)\n",
      " |-- date_time: date (nullable = true)\n",
      " |-- date_time_GMT: timestamp (nullable = true)\n",
      " |-- away_team_id: integer (nullable = true)\n",
      " |-- home_team_id: integer (nullable = true)\n",
      " |-- away_goals: integer (nullable = true)\n",
      " |-- home_goals: integer (nullable = true)\n",
      " |-- outcome: string (nullable = true)\n",
      " |-- home_rink_side_start: string (nullable = true)\n",
      " |-- venue: string (nullable = true)\n",
      " |-- venue_link: string (nullable = true)\n",
      " |-- venue_time_zone_id: string (nullable = true)\n",
      " |-- venue_time_zone_offset: integer (nullable = true)\n",
      " |-- venue_time_zone_tz: string (nullable = true)\n",
      "\n"
     ]
    }
   ],
   "source": [
    "# get game info\n",
    "games = spark.read.jdbc(url='jdbc:postgresql://localhost/50_in_07',\n",
    "                        table='game',\n",
    "                        properties={'user': 'tanyatang',\n",
    "                                    'password': '',\n",
    "                                    'driver': 'org.postgresql.Driver'})\n",
    "games.registerTempTable('games')\n",
    "games.printSchema()"
   ]
  },
  {
   "cell_type": "code",
   "execution_count": 118,
   "metadata": {},
   "outputs": [
    {
     "name": "stdout",
     "output_type": "stream",
     "text": [
      "root\n",
      " |-- team_id: integer (nullable = true)\n",
      " |-- franchise_id: integer (nullable = true)\n",
      " |-- short_name: string (nullable = true)\n",
      " |-- team_name: string (nullable = true)\n",
      " |-- abbreviation: string (nullable = true)\n",
      " |-- link: string (nullable = true)\n",
      " |-- active: boolean (nullable = true)\n",
      "\n"
     ]
    }
   ],
   "source": [
    "# get team info\n",
    "teams = spark.read.jdbc(url='jdbc:postgresql://localhost/50_in_07',\n",
    "                        table='team',\n",
    "                        properties={'user': 'tanyatang',\n",
    "                                    'password': '',\n",
    "                                    'driver': 'org.postgresql.Driver'})\n",
    "teams.registerTempTable('teams')\n",
    "teams.printSchema()"
   ]
  },
  {
   "cell_type": "code",
   "execution_count": 117,
   "metadata": {},
   "outputs": [
    {
     "name": "stdout",
     "output_type": "stream",
     "text": [
      "root\n",
      " |-- player_id: integer (nullable = true)\n",
      " |-- first_name: string (nullable = true)\n",
      " |-- last_name: string (nullable = true)\n",
      " |-- nationality: string (nullable = true)\n",
      " |-- birth_city: string (nullable = true)\n",
      " |-- primary_position: string (nullable = true)\n",
      " |-- birth_date: date (nullable = true)\n",
      " |-- link: string (nullable = true)\n",
      "\n"
     ]
    }
   ],
   "source": [
    "# get player info\n",
    "players = spark.read.jdbc(url='jdbc:postgresql://localhost/50_in_07',\n",
    "                          table='player',\n",
    "                          properties={'user': 'tanyatang',\n",
    "                                      'password': '',\n",
    "                                      'driver': 'org.postgresql.Driver'})\n",
    "players.registerTempTable('players')\n",
    "players.printSchema()"
   ]
  },
  {
   "cell_type": "code",
   "execution_count": 70,
   "metadata": {},
   "outputs": [
    {
     "name": "stdout",
     "output_type": "stream",
     "text": [
      "root\n",
      " |-- play_id: string (nullable = true)\n",
      " |-- game_id: integer (nullable = true)\n",
      " |-- play_num: integer (nullable = true)\n",
      " |-- player_id: integer (nullable = true)\n",
      " |-- player_type: string (nullable = true)\n",
      " |-- event: string (nullable = true)\n",
      " |-- winner: string (nullable = true)\n",
      "\n"
     ]
    }
   ],
   "source": [
    "# get player play info\n",
    "player_plays = spark.read.jdbc(url='jdbc:postgresql://localhost/50_in_07',\n",
    "                               table='game_player_play',\n",
    "                               properties={'user': 'tanyatang',\n",
    "                                           'password': '',\n",
    "                                           'driver': 'org.postgresql.Driver'})\n",
    "player_plays.registerTempTable('playerPlays')\n",
    "player_plays.printSchema()"
   ]
  },
  {
   "cell_type": "code",
   "execution_count": 100,
   "metadata": {},
   "outputs": [
    {
     "name": "stdout",
     "output_type": "stream",
     "text": [
      "root\n",
      " |-- game_id: integer (nullable = true)\n",
      " |-- player_id: integer (nullable = true)\n",
      " |-- team_id: integer (nullable = true)\n",
      " |-- time_on_ice: integer (nullable = true)\n",
      " |-- assists: integer (nullable = true)\n",
      " |-- goals: integer (nullable = true)\n",
      " |-- shots: integer (nullable = true)\n",
      " |-- hits: integer (nullable = true)\n",
      " |-- power_play_goals: integer (nullable = true)\n",
      " |-- power_play_assists: integer (nullable = true)\n",
      " |-- penalty_minutes: integer (nullable = true)\n",
      " |-- faceoff_wins: integer (nullable = true)\n",
      " |-- faceoff_taken: integer (nullable = true)\n",
      " |-- takeaways: integer (nullable = true)\n",
      " |-- giveaways: integer (nullable = true)\n",
      " |-- short_handed_goals: integer (nullable = true)\n",
      " |-- short_handed_assists: integer (nullable = true)\n",
      " |-- blocked: integer (nullable = true)\n",
      " |-- plus_minus: integer (nullable = true)\n",
      " |-- even_time_on_ice: integer (nullable = true)\n",
      " |-- short_handed_time_on_ice: integer (nullable = true)\n",
      " |-- power_play_time_on_ice: integer (nullable = true)\n",
      "\n"
     ]
    }
   ],
   "source": [
    "# get skater info\n",
    "skaters = spark.read.jdbc(url='jdbc:postgresql://localhost/50_in_07',\n",
    "                          table='game_skater',\n",
    "                          properties={'user': 'tanyatang',\n",
    "                                      'password': '',\n",
    "                                      'driver': 'org.postgresql.Driver'})\n",
    "skaters.registerTempTable('skaters')\n",
    "skaters.printSchema()"
   ]
  },
  {
   "cell_type": "markdown",
   "metadata": {},
   "source": [
    "We have imported the game and team tables from our database. The game table contains information about every game played from the 2010-2011 season to the 2018-2019 season. The team table contains information about all active teams from the 2010-2011 season to the 2018-2019 season. "
   ]
  },
  {
   "cell_type": "markdown",
   "metadata": {},
   "source": [
    "### Comparison of Number of Games Won\n",
    "___"
   ]
  },
  {
   "cell_type": "markdown",
   "metadata": {},
   "source": [
    "One of the first analyses we can do is to look at the distribution of winning games across teams and seasons, categorized by being home or away. "
   ]
  },
  {
   "cell_type": "code",
   "execution_count": 87,
   "metadata": {},
   "outputs": [
    {
     "name": "stdout",
     "output_type": "stream",
     "text": [
      "+----+--------+----+----+\n",
      "|team|  season|home|away|\n",
      "+----+--------+----+----+\n",
      "|   1|20102011|  22|  16|\n",
      "|   1|20112012|  31|  31|\n",
      "|   1|20122013|  13|   6|\n",
      "|   1|20132014|  21|  14|\n",
      "|   1|20142015|  19|  13|\n",
      "|   1|20152016|  19|  19|\n",
      "|   1|20162017|  16|  12|\n",
      "|   1|20172018|  24|  21|\n",
      "|   1|20182019|  20|  11|\n",
      "|   2|20102011|  17|  13|\n",
      "+----+--------+----+----+\n",
      "only showing top 10 rows\n",
      "\n"
     ]
    }
   ],
   "source": [
    "games_won = spark.sql(\"\"\"\n",
    "SELECT a.team, a.season, a.game_count AS home, b.game_count AS away\n",
    "FROM\n",
    "(SELECT COUNT(1) AS game_count, home_team_id AS team, season\n",
    "FROM games\n",
    "WHERE outcome = 'home win SO'\n",
    "OR outcome = 'home win OT'\n",
    "OR outcome = 'home win REG'\n",
    "GROUP BY home_team_id, season) AS a\n",
    "FULL OUTER JOIN\n",
    "(SELECT COUNT(1) AS game_count, away_team_id AS team, season\n",
    "FROM games\n",
    "WHERE outcome = 'away win SO'\n",
    "OR outcome = 'away win OT'\n",
    "OR outcome = 'away win REG'\n",
    "GROUP BY away_team_id, season) AS b\n",
    "ON a.team = b.team\n",
    "AND a.season = b.season\n",
    "ORDER BY a.team, a.season\n",
    "\"\"\")\n",
    "games_won.show(10)"
   ]
  },
  {
   "cell_type": "markdown",
   "metadata": {},
   "source": [
    "The preceding query counts all winning home and away games and groups the counts by team and season. There is currently no differentiation between different types of wins, i.e. shootout vs overtime vs regular. "
   ]
  },
  {
   "cell_type": "code",
   "execution_count": 130,
   "metadata": {},
   "outputs": [],
   "source": [
    "seasons = {20102011: 1,\n",
    "           20112012: 2,\n",
    "           20122013: 3,\n",
    "           20132014: 4,\n",
    "           20142015: 5,\n",
    "           20152016: 6,\n",
    "           20162017: 7,\n",
    "           20172018: 8,\n",
    "           20182019: 9}"
   ]
  },
  {
   "cell_type": "markdown",
   "metadata": {},
   "source": [
    "There are too many teams to plot in one graph, so we will split the results into three graphs. Each graph will show the split between home and away games won for each team. There are five unique teams, the ATL and PHX teams no longer exist so their data stops at 2011 and 2014, respectively. On the other hand, WPG, ARI, and VGK are new teams introduced after 2010, so their data starts at 2011, 2014, and 2017, respectively. \n",
    "\n",
    "*Note: the 2012-2013 season was a shortened season due to labour disputes so only 48 games were played in comparison to the usual 82 game-season.*"
   ]
  },
  {
   "cell_type": "code",
   "execution_count": 142,
   "metadata": {
    "scrolled": false
   },
   "outputs": [
    {
     "data": {
      "image/png": "[encoded data removed]",
      "text/plain": [
       "<Figure size 720x720 with 16 Axes>"
      ]
     },
     "metadata": {
      "needs_background": "light"
     },
     "output_type": "display_data"
    }
   ],
   "source": [
    "# plot data for teams 1 to 15\n",
    "fig, ax = plt.subplots(3, 5, figsize=(10, 10), sharex=True, sharey=True)\n",
    "for i in range(3):\n",
    "    for j in range(5):\n",
    "        team = i * 5 + j + 1\n",
    "        team_name = teams.filter(teams['team_id'] == team).select('abbreviation').collect()[0].abbreviation\n",
    "        games_won_per_team = games_won.filter(games_won['team'] == team)\n",
    "        x = list(map(lambda x: x.season,\n",
    "                 games_won_per_team.select('season').collect()))\n",
    "        x_vals = np.arange(seasons[x[0]] - 1, seasons[x[len(x) - 1]])\n",
    "        home_wins = list(map(lambda x: x.home,\n",
    "                             games_won_per_team.select('home').collect()))\n",
    "        away_wins = list(map(lambda x: x.away,\n",
    "                             games_won_per_team.select('away').collect()))\n",
    "        ax[i][j].bar(x_vals,\n",
    "                     home_wins)\n",
    "        ax[i][j].bar(x_vals,\n",
    "                     away_wins,\n",
    "                     bottom=home_wins)\n",
    "        ax[i][j].bar(np.arange(0, 9), [0] * 9)\n",
    "        ax[i][j].set_title(f'Team: {team_name}')\n",
    "        ax[i][j].set_xticks(np.arange(0, 9))\n",
    "        ax[i][j].set_xticklabels(['2010-2011', '2011-2012',\n",
    "                                  '2012-2013', '2013-2014',\n",
    "                                  '2014-2015', '2015-2016',\n",
    "                                  '2016-2017', '2017-2018',\n",
    "                                  '2018-2019'], \n",
    "                                 rotation='vertical')\n",
    "fig.add_subplot(111, frameon=False)\n",
    "plt.tick_params(labelcolor='none',\n",
    "                top=False,\n",
    "                bottom=False,\n",
    "                left=False,\n",
    "                right=False)\n",
    "plt.xlabel('Season', labelpad=55)\n",
    "plt.ylabel('Number of Games Won')\n",
    "fig.tight_layout()\n",
    "plt.show()"
   ]
  },
  {
   "cell_type": "code",
   "execution_count": 143,
   "metadata": {},
   "outputs": [
    {
     "data": {
      "image/png": "[encoded data removed]",
      "text/plain": [
       "<Figure size 720x720 with 16 Axes>"
      ]
     },
     "metadata": {
      "needs_background": "light"
     },
     "output_type": "display_data"
    }
   ],
   "source": [
    "# plot data for teams 16 to 30\n",
    "fig, ax = plt.subplots(3, 5, figsize=(10, 10), sharex=True, sharey=True)\n",
    "for i in range(3):\n",
    "    for j in range(5):\n",
    "        team = i * 5 + j + 15\n",
    "        team_name = teams.filter(teams['team_id'] == team).select('abbreviation').collect()[0].abbreviation\n",
    "        games_won_per_team = games_won.filter(games_won['team'] == team)\n",
    "        x = list(map(lambda x: x.season,\n",
    "                 games_won_per_team.select('season').collect()))\n",
    "        x_vals = np.arange(seasons[x[0]] - 1, seasons[x[len(x) - 1]])\n",
    "        home_wins = list(map(lambda x: x.home,\n",
    "                             games_won_per_team.select('home').collect()))\n",
    "        away_wins = list(map(lambda x: x.away,\n",
    "                             games_won_per_team.select('away').collect()))\n",
    "        ax[i][j].bar(x_vals,\n",
    "                     home_wins)\n",
    "        ax[i][j].bar(x_vals,\n",
    "                     away_wins,\n",
    "                     bottom=home_wins)\n",
    "        ax[i][j].bar(np.arange(0, 9), [0] * 9)\n",
    "        ax[i][j].set_title(f'Team: {team_name}')\n",
    "        ax[i][j].set_xticks(np.arange(0, 9))\n",
    "        ax[i][j].set_xticklabels(['2010-2011', '2011-2012',\n",
    "                                  '2012-2013', '2013-2014',\n",
    "                                  '2014-2015', '2015-2016',\n",
    "                                  '2016-2017', '2017-2018',\n",
    "                                  '2018-2019'], \n",
    "                                 rotation='vertical')\n",
    "fig.add_subplot(111, frameon=False)\n",
    "plt.tick_params(labelcolor='none',\n",
    "                top=False,\n",
    "                bottom=False,\n",
    "                left=False,\n",
    "                right=False)\n",
    "plt.xlabel('Season', labelpad=55)\n",
    "plt.ylabel('Number of Games Won')\n",
    "fig.tight_layout()\n",
    "plt.show()"
   ]
  },
  {
   "cell_type": "code",
   "execution_count": 146,
   "metadata": {},
   "outputs": [
    {
     "data": {
      "image/png": "[encoded data removed]",
      "text/plain": [
       "<Figure size 468x360 with 4 Axes>"
      ]
     },
     "metadata": {
      "needs_background": "light"
     },
     "output_type": "display_data"
    }
   ],
   "source": [
    "# plot data from 52 to 54\n",
    "fig, ax = plt.subplots(1, 3, figsize=(6.5, 5), sharex=True, sharey=True)\n",
    "for i in range(3):\n",
    "    team = 52 + i\n",
    "    team_name = teams.filter(teams['team_id'] == team).select('abbreviation').collect()[0].abbreviation\n",
    "    games_won_per_team = games_won.filter(games_won['team'] == team)\n",
    "    x = list(map(lambda x: x.season,\n",
    "                 games_won_per_team.select('season').collect()))\n",
    "    x_vals = np.arange(seasons[x[0]] - 1, seasons[x[len(x) - 1]])\n",
    "    home_wins = list(map(lambda x: x.home,\n",
    "                         games_won_per_team.select('home').collect()))\n",
    "    away_wins = list(map(lambda x: x.away,\n",
    "                         games_won_per_team.select('away').collect()))\n",
    "    ax[i].bar(x_vals,\n",
    "              home_wins)\n",
    "    ax[i].bar(x_vals,\n",
    "              away_wins,\n",
    "              bottom=home_wins)\n",
    "    ax[i].bar(np.arange(0, 9), [0] * 9)\n",
    "    ax[i].set_title(f'Team: {team_name}')\n",
    "    ax[i].set_xticks(np.arange(0, 9))\n",
    "    ax[i].set_xticklabels(['2010-2011', '2011-2012',\n",
    "                           '2012-2013', '2013-2014',\n",
    "                           '2014-2015', '2015-2016',\n",
    "                           '2016-2017', '2017-2018',\n",
    "                           '2018-2019'],\n",
    "                          rotation='vertical')\n",
    "fig.add_subplot(111, frameon=False)\n",
    "plt.tick_params(labelcolor='none',\n",
    "                top=False,\n",
    "                bottom=False,\n",
    "                left=False,\n",
    "                right=False)\n",
    "plt.xlabel('Season', labelpad=50)\n",
    "plt.ylabel('Number of Games Won')\n",
    "fig.tight_layout()\n",
    "plt.show()"
   ]
  },
  {
   "cell_type": "markdown",
   "metadata": {},
   "source": [
    "## Goal Differentials\n",
    "___"
   ]
  },
  {
   "cell_type": "markdown",
   "metadata": {},
   "source": [
    "Next, let us take a look at how the goal differential data is distributed for each team. The goal differential is calculated by taking the current team's goal score in a game and subtract from it the opposing team's goal score in a game. "
   ]
  },
  {
   "cell_type": "code",
   "execution_count": 58,
   "metadata": {},
   "outputs": [
    {
     "data": {
      "image/png": "[encoded data removed]",
      "text/plain": [
       "<Figure size 504x360 with 3 Axes>"
      ]
     },
     "metadata": {
      "needs_background": "light"
     },
     "output_type": "display_data"
    }
   ],
   "source": [
    "# only collect and plot data for test team\n",
    "test_team = 30\n",
    "away_diff_1 = spark.sql(f\"\"\"\n",
    "SELECT (away_goals - home_goals) AS goal_diff\n",
    "FROM games\n",
    "WHERE away_team_id = {test_team}\n",
    "\"\"\")\n",
    "home_diff_1 = spark.sql(f\"\"\"\n",
    "SELECT (home_goals - away_goals) AS goal_diff\n",
    "FROM games\n",
    "WHERE home_team_id = {test_team}\n",
    "\"\"\")\n",
    "home_points = list(map(lambda x: x.goal_diff,\n",
    "                       home_diff_1.collect()))\n",
    "away_points = list(map(lambda x: x.goal_diff,\n",
    "                       away_diff_1.collect()))\n",
    "home_counts = np.unique(home_points, return_counts=True)\n",
    "away_counts = np.unique(away_points, return_counts=True)\n",
    "fig, ax = plt.subplots(2, 1, figsize=(7, 5), sharex=True, sharey=True)\n",
    "ax[0].bar(home_counts[0], home_counts[1], color='navy', label='Home Games')\n",
    "ax[1].bar(away_counts[0], away_counts[1], color='lightsteelblue', label='Away Games')\n",
    "fig.legend()\n",
    "fig.add_subplot(111, frameon=False)\n",
    "plt.tick_params(labelcolor='none',\n",
    "                top=False,\n",
    "                bottom=False,\n",
    "                left=False,\n",
    "                right=False)\n",
    "plt.xlabel('Goal Differential (Team Score - Opponent Score)')\n",
    "plt.ylabel('Number of Games')\n",
    "fig.tight_layout()\n",
    "plt.show()"
   ]
  },
  {
   "cell_type": "code",
   "execution_count": 67,
   "metadata": {},
   "outputs": [],
   "source": [
    "# plot goal differential data for all teams and save figures\n",
    "team_ids = np.append(np.arange(1, 31), [52, 53, 54])\n",
    "date = '060620'\n",
    "for team in teams_ids:\n",
    "    away_diff = spark.sql(f\"\"\"\n",
    "    SELECT (away_goals - home_goals) AS goal_diff\n",
    "    FROM games\n",
    "    WHERE away_team_id = {team}\n",
    "    \"\"\")\n",
    "    home_diff = spark.sql(f\"\"\"\n",
    "    SELECT (home_goals - away_goals) AS goal_diff\n",
    "    FROM games\n",
    "    WHERE home_team_id = {team}\n",
    "    \"\"\")\n",
    "    home_points = list(map(lambda x: x.goal_diff,\n",
    "                           home_diff.collect()))\n",
    "    away_points = list(map(lambda x: x.goal_diff,\n",
    "                           away_diff.collect()))\n",
    "    home_counts = np.unique(home_points, return_counts=True)\n",
    "    away_counts = np.unique(away_points, return_counts=True)\n",
    "    fig, ax = plt.subplots(2, 1, figsize=(7, 5), sharex=True, sharey=True)\n",
    "    ax[0].bar(home_counts[0], home_counts[1], color='navy', label='Home Games')\n",
    "    ax[1].bar(away_counts[0], away_counts[1], color='lightsteelblue', label='Away Games')\n",
    "    fig.legend()\n",
    "    fig.add_subplot(111, frameon=False)\n",
    "    plt.tick_params(labelcolor='none',\n",
    "                    top=False,\n",
    "                    bottom=False,\n",
    "                    left=False,\n",
    "                    right=False)\n",
    "    plt.xlabel('Goal Differential (Team Score - Opponent Score)')\n",
    "    plt.ylabel('Number of Games')\n",
    "    fig.tight_layout()\n",
    "    plt.savefig(f'figs/goal_differential/team_{team}_{dates}.svg',\n",
    "                format='svg')\n",
    "    plt.close()"
   ]
  },
  {
   "cell_type": "markdown",
   "metadata": {},
   "source": [
    "## Player Event Outcomes\n",
    "___"
   ]
  },
  {
   "cell_type": "markdown",
   "metadata": {},
   "source": [
    "There are four major categories of plays a player experiences on the ice excluding penalties. A player comes out of a play as a loser or winner depending on the play outcome. For each player, we can plot the number of wins and loses in each category. "
   ]
  },
  {
   "cell_type": "code",
   "execution_count": 93,
   "metadata": {},
   "outputs": [
    {
     "data": {
      "image/png": "[encoded data removed]",
      "text/plain": [
       "<Figure size 432x288 with 1 Axes>"
      ]
     },
     "metadata": {
      "needs_background": "light"
     },
     "output_type": "display_data"
    }
   ],
   "source": [
    "# only collect and plot data for test player\n",
    "test_player = 8460577\n",
    "events = ['Shot Attempt', 'Turnover', 'Faceoff', 'Hit']\n",
    "fig, ax = plt.subplots()\n",
    "for k, event in enumerate(events):\n",
    "    win_count = spark.sql(f\"\"\"\n",
    "    SELECT COUNT(*) AS count\n",
    "    FROM playerPlays\n",
    "    WHERE event = '{event}'\n",
    "    AND player_id = {test_player}\n",
    "    AND winner = 'Winner'\n",
    "    \"\"\")\n",
    "    win_count = win_count.collect()[0]['count']\n",
    "    lose_count = spark.sql(f\"\"\"\n",
    "    SELECT COUNT(*) AS count\n",
    "    FROM playerPlays\n",
    "    WHERE event = '{event}'\n",
    "    AND player_id = {test_player}\n",
    "    AND winner = 'Loser'\n",
    "    \"\"\")\n",
    "    lose_count = lose_count.collect()[0]['count']\n",
    "    if k == 0:\n",
    "        ax.bar(k,\n",
    "               lose_count,\n",
    "               color='navy',\n",
    "               label='Loser of Event')\n",
    "        ax.bar(k,\n",
    "               win_count,\n",
    "               bottom=lose_count,\n",
    "               color='lightsteelblue',\n",
    "               label='Winner of Event')\n",
    "    else:\n",
    "        ax.bar(k, lose_count, color='navy')\n",
    "        ax.bar(k, win_count, bottom=lose_count, color='lightsteelblue')\n",
    "ax.set_xticks([0, 1, 2, 3])\n",
    "ax.set_xticklabels(events)\n",
    "ax.set_xlabel('Events')\n",
    "ax.set_ylabel('Count')\n",
    "ax.legend()\n",
    "fig.tight_layout()\n",
    "plt.show()"
   ]
  },
  {
   "cell_type": "code",
   "execution_count": 99,
   "metadata": {},
   "outputs": [],
   "source": [
    "# plot data for all players\n",
    "player_ids = list(map(lambda x: x.player_id,\n",
    "                      players.select('player_id').collect()))\n",
    "date ='060620'\n",
    "for player in player_ids:\n",
    "    events = ['Shot Attempt', 'Turnover', 'Faceoff', 'Hit']\n",
    "    counts = []\n",
    "    fig, ax = plt.subplots()\n",
    "    for k, event in enumerate(events):\n",
    "        win_count = spark.sql(f\"\"\"\n",
    "        SELECT COUNT(*) AS count\n",
    "        FROM playerPlays\n",
    "        WHERE event = '{event}'\n",
    "        AND player_id = {player}\n",
    "        AND winner = 'Winner'\n",
    "        \"\"\")\n",
    "        win_count = win_count.collect()[0]['count']\n",
    "        lose_count = spark.sql(f\"\"\"\n",
    "        SELECT COUNT(*) AS count\n",
    "        FROM playerPlays\n",
    "        WHERE event = '{event}'\n",
    "        AND player_id = {player}\n",
    "        AND winner = 'Loser'\n",
    "        \"\"\")\n",
    "        lose_count = lose_count.collect()[0]['count']\n",
    "        counts.append(win_count)\n",
    "        counts.append(lose_count)\n",
    "        if k == 0:\n",
    "            ax.bar(k,\n",
    "                   lose_count,\n",
    "                   color='navy',\n",
    "                   label='Loser of Event')\n",
    "            ax.bar(k,\n",
    "                   win_count,\n",
    "                   bottom=lose_count,\n",
    "                   color='lightsteelblue',\n",
    "                   label='Winner of Event')\n",
    "        else:\n",
    "            ax.bar(k, lose_count, color='navy')\n",
    "            ax.bar(k, win_count, bottom=lose_count, color='lightsteelblue')\n",
    "    if sum(counts) > 0:\n",
    "        ax.set_xticks([0, 1, 2, 3])\n",
    "        ax.set_xticklabels(events)\n",
    "        ax.set_xlabel('Events')\n",
    "        ax.set_ylabel('Count')\n",
    "        ax.legend()\n",
    "        fig.tight_layout()\n",
    "        plt.savefig(f'figs/player_play_outcomes/player_{player}_{date}.svg',\n",
    "                    format='svg')\n",
    "    plt.close()"
   ]
  },
  {
   "cell_type": "markdown",
   "metadata": {},
   "source": [
    "DESCRIBE"
   ]
  },
  {
   "cell_type": "code",
   "execution_count": 126,
   "metadata": {},
   "outputs": [
    {
     "data": {
      "image/png": "[encoded data removed]",
      "text/plain": [
       "<Figure size 432x288 with 1 Axes>"
      ]
     },
     "metadata": {
      "needs_background": "light"
     },
     "output_type": "display_data"
    }
   ],
   "source": [
    "# only collect and plot data for test player\n",
    "test_player = 8460577\n",
    "data = spark.sql(f\"\"\"\n",
    "SELECT player_id, time_on_ice, assists, goals, shots\n",
    "FROM skaters\n",
    "WHERE player_id = {test_player}\n",
    "\"\"\")\n",
    "time_on_ice = list(map(lambda x: x.time_on_ice, data.collect()))\n",
    "assists = list(map(lambda x: x.assists, data.collect()))\n",
    "goals = list(map(lambda x: x.goals, data.collect()))\n",
    "shots = list(map(lambda x: x.shots, data.collect()))\n",
    "fig, ax = plt.subplots()\n",
    "ax.scatter(time_on_ice, shots, marker='^', color='lightsteelblue', label='Shots')\n",
    "ax.scatter(time_on_ice, assists, marker='x', color='navy', label='Assists')\n",
    "ax.scatter(time_on_ice, goals, marker='.', color='orange', label='Goals')\n",
    "ax.set_xlim(left=0)\n",
    "ax.set_xlabel('Time on Ice (Minutes)')\n",
    "ax.set_ylabel('Count')\n",
    "ax.legend()\n",
    "fig.tight_layout()\n",
    "plt.show()"
   ]
  },
  {
   "cell_type": "code",
   "execution_count": 127,
   "metadata": {},
   "outputs": [],
   "source": [
    "# plot data for all players\n",
    "player_ids = list(map(lambda x: x.player_id,\n",
    "                      players.select('player_id').collect()))\n",
    "date = '060620'\n",
    "for player in player_ids:\n",
    "    data = spark.sql(f\"\"\"\n",
    "    SELECT player_id, time_on_ice, assists, goals, shots\n",
    "    FROM skaters\n",
    "    WHERE player_id = {player}\n",
    "    \"\"\")\n",
    "    time_on_ice = list(map(lambda x: x.time_on_ice, data.collect()))\n",
    "    assists = list(map(lambda x: x.assists, data.collect()))\n",
    "    goals = list(map(lambda x: x.goals, data.collect()))\n",
    "    shots = list(map(lambda x: x.shots, data.collect()))\n",
    "    if len(time_on_ice) > 0:\n",
    "        fig, ax = plt.subplots()\n",
    "        ax.scatter(time_on_ice, shots, marker='^', color='lightsteelblue', label='Shots')\n",
    "        ax.scatter(time_on_ice, assists, marker='x', color='navy', label='Assists')\n",
    "        ax.scatter(time_on_ice, goals, marker='.', color='orange', label='Goals')\n",
    "        ax.set_xlim(left=0)\n",
    "        ax.set_xlabel('Time on Ice (Minutes)')\n",
    "        ax.set_ylabel('Count')\n",
    "        ax.legend()\n",
    "        fig.tight_layout()\n",
    "        plt.savefig(f'figs/time_on_ice_comparison/player_{player}_{date}.png',\n",
    "                    format='png')\n",
    "        plt.close()"
   ]
  },
  {
   "cell_type": "code",
   "execution_count": null,
   "metadata": {},
   "outputs": [],
   "source": []
  }
 ],
 "metadata": {
  "kernelspec": {
   "display_name": "50_in_07.venv",
   "language": "python",
   "name": ".venv"
  },
  "language_info": {
   "codemirror_mode": {
    "name": "ipython",
    "version": 3
   },
   "file_extension": ".py",
   "mimetype": "text/x-python",
   "name": "python",
   "nbconvert_exporter": "python",
   "pygments_lexer": "ipython3",
   "version": "3.7.6"
  }
 },
 "nbformat": 4,
 "nbformat_minor": 4
}
