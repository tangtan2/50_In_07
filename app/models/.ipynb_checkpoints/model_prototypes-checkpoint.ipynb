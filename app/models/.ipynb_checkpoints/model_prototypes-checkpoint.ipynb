{
 "cells": [
  {
   "cell_type": "markdown",
   "metadata": {},
   "source": [
    "# Sandbox to create prototype models for game prediction\n",
    "\n",
    "Model list:\n",
    "1. Linear regression using OLS"
   ]
  },
  {
   "cell_type": "code",
   "execution_count": 28,
   "metadata": {},
   "outputs": [],
   "source": [
    "import sys\n",
    "sys.path.append('/Users/tanyatang/Documents/Code/python/50_in_07/app')\n",
    "sys.path.append('/Users/tanyatang/Documents/Code/python/50_in_07/venv/lib/python3.7/site-packages')"
   ]
  },
  {
   "cell_type": "code",
   "execution_count": 94,
   "metadata": {},
   "outputs": [],
   "source": [
    "import app.data_preparation.database_connector as db\n",
    "import pickle"
   ]
  },
  {
   "cell_type": "markdown",
   "metadata": {},
   "source": [
    "## Model 1: Linear regression\n",
    "\n",
    "Use player per game information to predict player goals in future games"
   ]
  },
  {
   "cell_type": "code",
   "execution_count": 95,
   "metadata": {},
   "outputs": [
    {
     "name": "stdout",
     "output_type": "stream",
     "text": [
      "Connecting to SQL database...\n",
      "Connected to SQL database\n"
     ]
    }
   ],
   "source": [
    "from sklearn import linear_model as lm\n",
    "db_name = '50_in_07'\n",
    "current_db, current_cursor = db.connect_db(db_name)"
   ]
  },
  {
   "cell_type": "markdown",
   "metadata": {},
   "source": [
    "Get player information to encode player id's to integers"
   ]
  },
  {
   "cell_type": "code",
   "execution_count": 40,
   "metadata": {},
   "outputs": [],
   "source": [
    "player_dict = {}\n",
    "current_cursor.execute(\"\"\"\n",
    "SELECT player_id FROM player_info\n",
    "\"\"\")\n",
    "for i, player in enumerate(current_cursor.fetchall()):\n",
    "    player_dict[player[0]] = i"
   ]
  },
  {
   "cell_type": "markdown",
   "metadata": {},
   "source": [
    "Get relevant game information\\\n",
    "Dictionary keys are game ID's, values are 7-item tuples with elements:\n",
    "1. Player ID (integer encoding)\n",
    "2. Team ID (integer encoding)\n",
    "3. Month of game\n",
    "4. Away team\n",
    "5. Home team\n",
    "6. Goals scored by player"
   ]
  },
  {
   "cell_type": "code",
   "execution_count": 83,
   "metadata": {},
   "outputs": [],
   "source": [
    "game_dict = {}\n",
    "current_cursor.execute(\"\"\"\n",
    "SELECT a.game_id, player_id, team_id, MONTH(date_time), away_team_id, home_team_id, goals\n",
    "FROM (\n",
    "SELECT game_id, player_id, team_id, goals\n",
    "FROM skater\n",
    ") AS a\n",
    "JOIN (\n",
    "SELECT game_id, date_time, away_team_id, home_team_id\n",
    "FROM game\n",
    ") AS b\n",
    "ON a.game_id = b.game_id\n",
    "\"\"\")\n",
    "for result in current_cursor.fetchall():\n",
    "    player = player_dict[result[1]]\n",
    "    game_dict[result[0]] = (player, result[2], result[3], result[4], result[5], result[6])"
   ]
  },
  {
   "cell_type": "markdown",
   "metadata": {},
   "source": [
    "Need to only include goals for player's own team, features are 3-item tuples with elements:\n",
    "1. Player ID (integer encoding)\n",
    "2. Team ID (integer encoding)\n",
    "3. Month of game\n",
    "4. Away or home team (0-1 encoding)\n",
    "\n",
    "Target is goals scored:\n",
    "1. Goals scored by player"
   ]
  },
  {
   "cell_type": "code",
   "execution_count": 84,
   "metadata": {},
   "outputs": [],
   "source": [
    "features = []\n",
    "targets = []\n",
    "for game_id in game_dict.keys():\n",
    "    current_sample = game_dict[game_id]\n",
    "    targets.append(current_sample[5])\n",
    "    if current_sample[1] == current_sample[3]:\n",
    "        features.append((current_sample[0], current_sample[1], current_sample[2], 0))\n",
    "    elif current_sample[1] == current_sample[4]:\n",
    "        features.append((current_sample[0], current_sample[1], current_sample[2], 1))"
   ]
  },
  {
   "cell_type": "code",
   "execution_count": 85,
   "metadata": {},
   "outputs": [],
   "source": [
    "linear_ols = lm.LinearRegression().fit(features, targets)"
   ]
  },
  {
   "cell_type": "markdown",
   "metadata": {},
   "source": [
    "Test model on Febuary games for Mitch Marner of the Toronto Maple Leafs"
   ]
  },
  {
   "cell_type": "code",
   "execution_count": 89,
   "metadata": {},
   "outputs": [
    {
     "name": "stdout",
     "output_type": "stream",
     "text": [
      "Predicted goals for home game in February by Mitch Marner: 0.15973675864986914\n",
      "Predicted goals for away game in February by Mitch Marner: -0.00801852635517842\n"
     ]
    }
   ],
   "source": [
    "marner_id = 8478483\n",
    "mini_test = [[player_dict[marner_id], 10, 2, 1],\n",
    "            [player_dict[marner_id], 10, 2, 0]]\n",
    "mini_test_results = linear_ols.predict(mini_test)\n",
    "print('Predicted goals for home game in February by Mitch Marner:', mini_test_results[0])\n",
    "print('Predicted goals for away game in February by Mitch Marner:', mini_test_results[1])"
   ]
  },
  {
   "cell_type": "markdown",
   "metadata": {},
   "source": [
    "Save model to archive"
   ]
  },
  {
   "cell_type": "code",
   "execution_count": 92,
   "metadata": {},
   "outputs": [],
   "source": [
    "pickle.dump(linear_ols, open(\"/Users/tanyatang/Documents/Code/python/50_in_07/app/models/archived_models/linear_ols_1.sav\", 'wb'))"
   ]
  },
  {
   "cell_type": "markdown",
   "metadata": {},
   "source": [
    "Disconnect from database"
   ]
  },
  {
   "cell_type": "code",
   "execution_count": 96,
   "metadata": {},
   "outputs": [
    {
     "name": "stdout",
     "output_type": "stream",
     "text": [
      "Committing database changes...\n",
      "Disconnecting from SQL database...\n",
      "Disconnected from SQL database\n"
     ]
    }
   ],
   "source": [
    "db.disconnect_db(current_db, current_cursor)"
   ]
  },
  {
   "cell_type": "code",
   "execution_count": null,
   "metadata": {},
   "outputs": [],
   "source": []
  }
 ],
 "metadata": {
  "kernelspec": {
   "display_name": "Python 3",
   "language": "python",
   "name": "python3"
  },
  "language_info": {
   "codemirror_mode": {
    "name": "ipython",
    "version": 3
   },
   "file_extension": ".py",
   "mimetype": "text/x-python",
   "name": "python",
   "nbconvert_exporter": "python",
   "pygments_lexer": "ipython3",
   "version": "3.7.6"
  }
 },
 "nbformat": 4,
 "nbformat_minor": 4
}
