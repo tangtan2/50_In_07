{
 "cells": [
  {
   "cell_type": "markdown",
   "metadata": {},
   "source": [
    "# Data preparation\n",
    "\n",
    "Load data from CSV files and export to database\\\n",
    "CSV files downloaded from https://www.kaggle.com/martinellis/nhl-game-data/"
   ]
  },
  {
   "cell_type": "code",
   "execution_count": 1,
   "metadata": {},
   "outputs": [
    {
     "data": {
      "text/plain": [
       "DataFrame[key: string, value: string]"
      ]
     },
     "execution_count": 1,
     "metadata": {},
     "output_type": "execute_result"
    }
   ],
   "source": [
    "import os\n",
    "os.environ[\"JAVA_HOME\"] = \"/Library/Java/JavaVirtualMachines/jdk1.8.0_231.jdk/Contents/Home/\"\n",
    "os.environ[\"JRE_HOME\"] = \"/Library/Java/JavaVirtualMachines/jdk1.8.0_231.jdk/Contents/Home/\"\n",
    "import findspark\n",
    "findspark.init(\"/usr/local/Cellar/apache-spark@2.3.2/2.3.2/libexec/\")\n",
    "import pyspark\n",
    "sc = pyspark.SparkContext()\n",
    "spark = pyspark.sql.SQLContext(sc)\n",
    "spark.sql(\"SET @@global.time_zone='+00:00'\")"
   ]
  },
  {
   "cell_type": "markdown",
   "metadata": {},
   "source": [
    "Individual game information"
   ]
  },
  {
   "cell_type": "code",
   "execution_count": 3,
   "metadata": {},
   "outputs": [
    {
     "name": "stdout",
     "output_type": "stream",
     "text": [
      "root\n",
      " |-- game_id: string (nullable = true)\n",
      " |-- season: string (nullable = true)\n",
      " |-- type: string (nullable = true)\n",
      " |-- date_time: string (nullable = true)\n",
      " |-- date_time_GMT: string (nullable = true)\n",
      " |-- away_team_id: string (nullable = true)\n",
      " |-- home_team_id: string (nullable = true)\n",
      " |-- away_goals: string (nullable = true)\n",
      " |-- home_goals: string (nullable = true)\n",
      " |-- outcome: string (nullable = true)\n",
      " |-- home_rink_side_start: string (nullable = true)\n",
      " |-- venue: string (nullable = true)\n",
      " |-- venue_link: string (nullable = true)\n",
      " |-- venue_time_zone_id: string (nullable = true)\n",
      " |-- venue_time_zone_offset: string (nullable = true)\n",
      " |-- venue_time_zone_tz: string (nullable = true)\n",
      "\n",
      "+----------+--------+----+----------+--------------------+------------+------------+----------+----------+------------+--------------------+------------------+-------------------+-------------------+----------------------+------------------+\n",
      "|   game_id|  season|type| date_time|       date_time_GMT|away_team_id|home_team_id|away_goals|home_goals|     outcome|home_rink_side_start|             venue|         venue_link| venue_time_zone_id|venue_time_zone_offset|venue_time_zone_tz|\n",
      "+----------+--------+----+----------+--------------------+------------+------------+----------+----------+------------+--------------------+------------------+-------------------+-------------------+----------------------+------------------+\n",
      "|2011030221|20112012|   P|2012-04-29|2012-04-29T19:00:00Z|           1|           4|         3|         4| home win OT|               right|Wells Fargo Center|/api/v1/venues/null|   America/New_York|                    -4|               EDT|\n",
      "|2011030222|20112012|   P|2012-05-01|2012-05-01T23:30:00Z|           1|           4|         4|         1|away win REG|               right|Wells Fargo Center|/api/v1/venues/null|   America/New_York|                    -4|               EDT|\n",
      "|2011030223|20112012|   P|2012-05-03|2012-05-03T23:30:00Z|           4|           1|         3|         4| home win OT|                left| Prudential Center|/api/v1/venues/null|   America/New_York|                    -4|               EDT|\n",
      "|2011030224|20112012|   P|2012-05-06|2012-05-06T23:30:00Z|           4|           1|         2|         4|home win REG|                left| Prudential Center|/api/v1/venues/null|   America/New_York|                    -4|               EDT|\n",
      "|2011030225|20112012|   P|2012-05-08|2012-05-08T23:30:00Z|           1|           4|         3|         1|away win REG|               right|Wells Fargo Center|/api/v1/venues/null|   America/New_York|                    -4|               EDT|\n",
      "|2011030411|20112012|   P|2012-05-31|2012-05-31T00:00:00Z|          26|           1|         2|         1| away win OT|                left| Prudential Center|/api/v1/venues/null|   America/New_York|                    -4|               EDT|\n",
      "|2011030412|20112012|   P|2012-06-03|2012-06-03T00:00:00Z|          26|           1|         2|         1| away win OT|                left| Prudential Center|/api/v1/venues/null|   America/New_York|                    -4|               EDT|\n",
      "|2011030413|20112012|   P|2012-06-05|2012-06-05T00:00:00Z|           1|          26|         0|         4|home win REG|               right|    Staples Center|/api/v1/venues/null|America/Los_Angeles|                    -7|               PDT|\n",
      "|2011030414|20112012|   P|2012-06-07|2012-06-07T00:00:00Z|           1|          26|         3|         1|away win REG|               right|    Staples Center|/api/v1/venues/null|America/Los_Angeles|                    -7|               PDT|\n",
      "|2011030415|20112012|   P|2012-06-10|2012-06-10T00:00:00Z|          26|           1|         1|         2|home win REG|                left| Prudential Center|/api/v1/venues/null|   America/New_York|                    -4|               EDT|\n",
      "+----------+--------+----+----------+--------------------+------------+------------+----------+----------+------------+--------------------+------------------+-------------------+-------------------+----------------------+------------------+\n",
      "\n"
     ]
    }
   ],
   "source": [
    "game_file_path = '../../data/game.csv'\n",
    "df_raw = spark.read.csv(game_file_path, \n",
    "                        header=True, \n",
    "                        mode=\"DROPMALFORMED\")\n",
    "df_raw.printSchema()\n",
    "df_raw.createOrReplaceTempView('game_raw')\n",
    "spark.sql(\"\"\"\n",
    "SELECT * FROM game_raw LIMIT 10\n",
    "\"\"\").show()"
   ]
  },
  {
   "cell_type": "code",
   "execution_count": 15,
   "metadata": {},
   "outputs": [
    {
     "name": "stdout",
     "output_type": "stream",
     "text": [
      "root\n",
      " |-- game_id: string (nullable = true)\n",
      " |-- season: integer (nullable = true)\n",
      " |-- type: string (nullable = true)\n",
      " |-- date_time: date (nullable = true)\n",
      " |-- away_team_id: integer (nullable = true)\n",
      " |-- home_team_id: integer (nullable = true)\n",
      " |-- away_goals: integer (nullable = true)\n",
      " |-- home_goals: integer (nullable = true)\n",
      " |-- outcome: string (nullable = true)\n",
      " |-- home_rink_side_start: string (nullable = true)\n",
      " |-- venue: string (nullable = true)\n",
      " |-- venue_time_zone_id: string (nullable = true)\n",
      " |-- venue_time_zone_offset: integer (nullable = true)\n",
      "\n"
     ]
    }
   ],
   "source": [
    "df = spark.sql(\"\"\"\n",
    "SELECT game_id, CAST(season AS int), type, CAST(date_time AS date), CAST(away_team_id AS int), CAST(home_team_id AS int), CAST(away_goals AS int), CAST(home_goals AS int), outcome, home_rink_side_start, venue, venue_time_zone_id, CAST(venue_time_zone_offset AS int)\n",
    "FROM game_raw\n",
    "\"\"\")\n",
    "df.printSchema()"
   ]
  },
  {
   "cell_type": "code",
   "execution_count": 14,
   "metadata": {},
   "outputs": [],
   "source": [
    "df.write.format('jdbc').options(\n",
    "    url='jdbc:mysql://localhost/50_in_07',\n",
    "    driver='com.mysql.jdbc.Driver',\n",
    "    dbtable='game',\n",
    "    user='root').mode('overwrite').save()"
   ]
  },
  {
   "cell_type": "markdown",
   "metadata": {},
   "source": [
    "Goalie information"
   ]
  },
  {
   "cell_type": "code",
   "execution_count": 17,
   "metadata": {},
   "outputs": [
    {
     "name": "stdout",
     "output_type": "stream",
     "text": [
      "root\n",
      " |-- game_id: string (nullable = true)\n",
      " |-- player_id: string (nullable = true)\n",
      " |-- team_id: string (nullable = true)\n",
      " |-- timeOnIce: string (nullable = true)\n",
      " |-- assists: string (nullable = true)\n",
      " |-- goals: string (nullable = true)\n",
      " |-- pim: string (nullable = true)\n",
      " |-- shots: string (nullable = true)\n",
      " |-- saves: string (nullable = true)\n",
      " |-- powerPlaySaves: string (nullable = true)\n",
      " |-- shortHandedSaves: string (nullable = true)\n",
      " |-- evenSaves: string (nullable = true)\n",
      " |-- shortHandedShotsAgainst: string (nullable = true)\n",
      " |-- evenShotsAgainst: string (nullable = true)\n",
      " |-- powerPlayShotsAgainst: string (nullable = true)\n",
      " |-- decision: string (nullable = true)\n",
      " |-- savePercentage: string (nullable = true)\n",
      " |-- powerPlaySavePercentage: string (nullable = true)\n",
      " |-- evenStrengthSavePercentage: string (nullable = true)\n",
      "\n",
      "+----------+---------+-------+---------+-------+-----+---+-----+-----+--------------+----------------+---------+-----------------------+----------------+---------------------+--------+----------------+-----------------------+--------------------------+\n",
      "|   game_id|player_id|team_id|timeOnIce|assists|goals|pim|shots|saves|powerPlaySaves|shortHandedSaves|evenSaves|shortHandedShotsAgainst|evenShotsAgainst|powerPlayShotsAgainst|decision|  savePercentage|powerPlaySavePercentage|evenStrengthSavePercentage|\n",
      "+----------+---------+-------+---------+-------+-----+---+-----+-----+--------------+----------------+---------+-----------------------+----------------+---------------------+--------+----------------+-----------------------+--------------------------+\n",
      "|2011030221|  8455710|      1|     3876|      0|    0|  0|   36|   32|             7|               0|       25|                      0|              28|                    8|       L|88.8888888888889|                   87.5|          89.2857142857143|\n",
      "|2011030221|  8468524|      4|     3876|      0|    0|  0|   26|   23|             4|               5|       14|                      5|              16|                    5|       W|88.4615384615385|                     80|                      87.5|\n",
      "|2011030222|  8455710|      1|     3599|      0|    0|  0|   20|   19|             1|               3|       15|                      3|              16|                    1|       W|              95|                    100|                     93.75|\n",
      "|2011030222|  8468524|      4|     3559|      0|    0|  0|   34|   31|             6|               0|       25|                      0|              28|                    6|       L|91.1764705882353|                    100|          89.2857142857143|\n",
      "|2011030223|  8468524|      4|     4623|      0|    0|  0|   31|   27|             1|               1|       25|                      1|              28|                    2|       L|87.0967741935484|                     50|          89.2857142857143|\n",
      "|2011030223|  8455710|      1|     4641|      0|    0|  0|   28|   25|             4|               0|       21|                      0|              23|                    5|       W|89.2857142857143|                     80|           91.304347826087|\n",
      "|2011030224|  8468524|      4|     3555|      0|    0|  0|   42|   39|             6|               0|       33|                      0|              35|                    7|       L|92.8571428571429|       85.7142857142857|          94.2857142857143|\n",
      "|2011030224|  8455710|      1|     3600|      1|    0|  0|   22|   20|             1|               1|       18|                      2|              18|                    2|       W|90.9090909090909|                     50|                       100|\n",
      "|2011030225|  8455710|      1|     3600|      0|    0|  0|   28|   27|             0|               3|       24|                      3|              25|                    0|       W|96.4285714285714|                     NA|                        96|\n",
      "|2011030225|  8468524|      4|     3452|      0|    0|  0|   30|   27|             2|               1|       24|                      1|              26|                    3|       L|              90|       66.6666666666667|          92.3076923076923|\n",
      "+----------+---------+-------+---------+-------+-----+---+-----+-----+--------------+----------------+---------+-----------------------+----------------+---------------------+--------+----------------+-----------------------+--------------------------+\n",
      "\n"
     ]
    }
   ],
   "source": [
    "goalie_file_path = '../../data/game_goalie_stats.csv'\n",
    "df_raw = spark.read.csv(goalie_file_path, \n",
    "                        header=True, \n",
    "                        mode=\"DROPMALFORMED\")\n",
    "df_raw.printSchema()\n",
    "df_raw.createOrReplaceTempView('goalie_raw')\n",
    "spark.sql(\"\"\"\n",
    "SELECT * FROM goalie_raw LIMIT 10\n",
    "\"\"\").show()"
   ]
  },
  {
   "cell_type": "code",
   "execution_count": 18,
   "metadata": {},
   "outputs": [
    {
     "name": "stdout",
     "output_type": "stream",
     "text": [
      "root\n",
      " |-- game_id: string (nullable = true)\n",
      " |-- player_id: integer (nullable = true)\n",
      " |-- team_id: integer (nullable = true)\n",
      " |-- timeOnIce: integer (nullable = true)\n",
      " |-- assists: integer (nullable = true)\n",
      " |-- goals: integer (nullable = true)\n",
      " |-- pim: integer (nullable = true)\n",
      " |-- shots: integer (nullable = true)\n",
      " |-- saves: integer (nullable = true)\n",
      " |-- powerPlaySaves: integer (nullable = true)\n",
      " |-- shortHandedSaves: integer (nullable = true)\n",
      " |-- evenSaves: integer (nullable = true)\n",
      " |-- shortHandedShotsAgainst: integer (nullable = true)\n",
      " |-- evenShotsAgainst: integer (nullable = true)\n",
      " |-- powerPlayShotsAgainst: integer (nullable = true)\n",
      " |-- decision: string (nullable = true)\n",
      " |-- savePercentage: float (nullable = true)\n",
      " |-- powerPlaySavePercentage: float (nullable = true)\n",
      " |-- evenStrengthSavePercentage: float (nullable = true)\n",
      "\n"
     ]
    }
   ],
   "source": [
    "df = spark.sql(\"\"\"\n",
    "SELECT game_id, CAST(player_id AS int), CAST(team_id AS int), CAST(timeOnIce AS int), CAST(assists AS int), CAST(goals AS int), CAST(pim AS int), CAST(shots AS int), CAST(saves AS int), CAST(powerPlaySaves AS int), CAST(shortHandedSaves AS int), CAST(evenSaves AS int), CAST(shortHandedShotsAgainst AS int), CAST(evenShotsAgainst AS int), CAST(powerPlayShotsAgainst AS int), decision, CAST(savePercentage AS float), CAST(powerPlaySavePercentage AS float), CAST(evenStrengthSavePercentage AS float)\n",
    "FROM goalie_raw\n",
    "\"\"\")\n",
    "df.printSchema()"
   ]
  },
  {
   "cell_type": "code",
   "execution_count": 19,
   "metadata": {},
   "outputs": [],
   "source": [
    "df.write.format('jdbc').options(\n",
    "    url='jdbc:mysql://localhost/50_in_07',\n",
    "    driver='com.mysql.jdbc.Driver',\n",
    "    dbtable='goalie',\n",
    "    user='root').mode('overwrite').save()"
   ]
  },
  {
   "cell_type": "markdown",
   "metadata": {},
   "source": [
    "Skater information"
   ]
  },
  {
   "cell_type": "code",
   "execution_count": 23,
   "metadata": {},
   "outputs": [
    {
     "name": "stdout",
     "output_type": "stream",
     "text": [
      "root\n",
      " |-- game_id: string (nullable = true)\n",
      " |-- player_id: string (nullable = true)\n",
      " |-- team_id: string (nullable = true)\n",
      " |-- timeOnIce: string (nullable = true)\n",
      " |-- assists: string (nullable = true)\n",
      " |-- goals: string (nullable = true)\n",
      " |-- shots: string (nullable = true)\n",
      " |-- hits: string (nullable = true)\n",
      " |-- powerPlayGoals: string (nullable = true)\n",
      " |-- powerPlayAssists: string (nullable = true)\n",
      " |-- penaltyMinutes: string (nullable = true)\n",
      " |-- faceOffWins: string (nullable = true)\n",
      " |-- faceoffTaken: string (nullable = true)\n",
      " |-- takeaways: string (nullable = true)\n",
      " |-- giveaways: string (nullable = true)\n",
      " |-- shortHandedGoals: string (nullable = true)\n",
      " |-- shortHandedAssists: string (nullable = true)\n",
      " |-- blocked: string (nullable = true)\n",
      " |-- plusMinus: string (nullable = true)\n",
      " |-- evenTimeOnIce: string (nullable = true)\n",
      " |-- shortHandedTimeOnIce: string (nullable = true)\n",
      " |-- powerPlayTimeOnIce: string (nullable = true)\n",
      "\n",
      "+----------+---------+-------+---------+-------+-----+-----+----+--------------+----------------+--------------+-----------+------------+---------+---------+----------------+------------------+-------+---------+-------------+--------------------+------------------+\n",
      "|   game_id|player_id|team_id|timeOnIce|assists|goals|shots|hits|powerPlayGoals|powerPlayAssists|penaltyMinutes|faceOffWins|faceoffTaken|takeaways|giveaways|shortHandedGoals|shortHandedAssists|blocked|plusMinus|evenTimeOnIce|shortHandedTimeOnIce|powerPlayTimeOnIce|\n",
      "+----------+---------+-------+---------+-------+-----+-----+----+--------------+----------------+--------------+-----------+------------+---------+---------+----------------+------------------+-------+---------+-------------+--------------------+------------------+\n",
      "|2011030221|  8467412|      1|      999|      0|    0|    1|   3|             0|               0|             0|          0|           0|        0|        0|               0|                 0|      0|       -1|          885|                  98|                16|\n",
      "|2011030221|  8468501|      1|     1168|      0|    0|    0|   4|             0|               0|             0|          0|           0|        1|        1|               0|                 0|      1|        0|          767|                 401|                 0|\n",
      "|2011030221|  8470609|      1|      558|      0|    0|    2|   1|             0|               0|             0|          0|           2|        0|        0|               0|                 0|      1|       -1|          542|                   0|                16|\n",
      "|2011030221|  8471816|      1|     1134|      0|    0|    1|   4|             0|               0|             0|          0|           0|        1|        0|               0|                 0|      1|       -1|          935|                 183|                16|\n",
      "|2011030221|  8472410|      1|      436|      0|    0|    1|   3|             0|               0|             0|          3|           6|        0|        0|               0|                 0|      0|       -1|          436|                   0|                 0|\n",
      "|2011030221|  8471233|      1|     1344|      0|    1|    4|   0|             1|               0|             0|         13|          21|        0|        1|               0|                 0|      1|       -1|          949|                 239|               156|\n",
      "|2011030221|  8470920|      1|      837|      1|    0|    2|   5|             0|               0|             0|          1|           2|        1|        0|               0|                 0|      2|        1|          756|                   0|                81|\n",
      "|2011030221|  8473646|      1|      465|      0|    0|    2|   3|             0|               0|             0|          1|           1|        0|        0|               0|                 0|      0|       -1|          465|                   0|                 0|\n",
      "|2011030221|  8470610|      1|     1327|      1|    1|    3|   3|             0|               1|             0|          0|           0|        1|        0|               0|                 0|      2|        0|          903|                 268|               156|\n",
      "|2011030221|  8472382|      1|     1324|      0|    0|    1|   0|             0|               0|             2|          0|           0|        0|        0|               0|                 0|      1|       -2|         1085|                 220|                19|\n",
      "+----------+---------+-------+---------+-------+-----+-----+----+--------------+----------------+--------------+-----------+------------+---------+---------+----------------+------------------+-------+---------+-------------+--------------------+------------------+\n",
      "\n"
     ]
    }
   ],
   "source": [
    "skater_file_path = '../../data/game_skater_stats.csv'\n",
    "df_raw = spark.read.csv(skater_file_path, \n",
    "                        header=True, \n",
    "                        mode=\"DROPMALFORMED\")\n",
    "df_raw.printSchema()\n",
    "df_raw.createOrReplaceTempView('skater_raw')\n",
    "spark.sql(\"\"\"\n",
    "SELECT * FROM skater_raw LIMIT 10\n",
    "\"\"\").show()"
   ]
  },
  {
   "cell_type": "code",
   "execution_count": 26,
   "metadata": {},
   "outputs": [
    {
     "name": "stdout",
     "output_type": "stream",
     "text": [
      "root\n",
      " |-- game_id: string (nullable = true)\n",
      " |-- player_id: integer (nullable = true)\n",
      " |-- team_id: integer (nullable = true)\n",
      " |-- timeOnIce: integer (nullable = true)\n",
      " |-- assists: integer (nullable = true)\n",
      " |-- goals: integer (nullable = true)\n",
      " |-- shots: integer (nullable = true)\n",
      " |-- hits: integer (nullable = true)\n",
      " |-- powerPlayGoals: integer (nullable = true)\n",
      " |-- powerPlayAssists: integer (nullable = true)\n",
      " |-- penaltyMinutes: integer (nullable = true)\n",
      " |-- faceOffWins: integer (nullable = true)\n",
      " |-- faceOffTaken: integer (nullable = true)\n",
      " |-- takeaways: integer (nullable = true)\n",
      " |-- giveaways: integer (nullable = true)\n",
      " |-- shortHandedGoals: integer (nullable = true)\n",
      " |-- shortHandedAssists: integer (nullable = true)\n",
      " |-- blocked: integer (nullable = true)\n",
      " |-- plusMinus: integer (nullable = true)\n",
      " |-- evenTimeOnIce: integer (nullable = true)\n",
      " |-- shortHandedTimeOnIce: integer (nullable = true)\n",
      " |-- powerPlayTimeOnIce: integer (nullable = true)\n",
      "\n"
     ]
    }
   ],
   "source": [
    "df = spark.sql(\"\"\"\n",
    "SELECT game_id, CAST(player_id AS int), CAST(team_id AS int), CAST(timeOnIce AS int), CAST(assists AS int), CAST(goals AS int), CAST(shots AS int), CAST(hits AS int), CAST(powerPlayGoals AS int), CAST(powerPlayAssists AS int), CAST(penaltyMinutes AS int), CAST(faceOffWins AS int), CAST(faceoffTaken AS int) AS faceOffTaken, CAST(takeaways AS int), CAST(giveaways AS int), CAST(shortHandedGoals AS int), CAST(shortHandedAssists AS int), CAST(blocked AS int), CAST(plusMinus AS int), CAST(evenTimeOnIce AS int), CAST(shortHandedTimeOnIce AS int), CAST(powerPlayTimeOnIce AS int)\n",
    "FROM skater_raw\n",
    "\"\"\")\n",
    "df.printSchema()"
   ]
  },
  {
   "cell_type": "code",
   "execution_count": 25,
   "metadata": {},
   "outputs": [],
   "source": [
    "df.write.format('jdbc').options(\n",
    "    url='jdbc:mysql://localhost/50_in_07',\n",
    "    driver='com.mysql.jdbc.Driver',\n",
    "    dbtable='skater',\n",
    "    user='root').mode('overwrite').save()"
   ]
  },
  {
   "cell_type": "markdown",
   "metadata": {},
   "source": [
    "Team information"
   ]
  },
  {
   "cell_type": "code",
   "execution_count": 29,
   "metadata": {},
   "outputs": [
    {
     "name": "stdout",
     "output_type": "stream",
     "text": [
      "root\n",
      " |-- game_id: string (nullable = true)\n",
      " |-- team_id: string (nullable = true)\n",
      " |-- HoA: string (nullable = true)\n",
      " |-- won: string (nullable = true)\n",
      " |-- settled_in: string (nullable = true)\n",
      " |-- head_coach: string (nullable = true)\n",
      " |-- goals: string (nullable = true)\n",
      " |-- shots: string (nullable = true)\n",
      " |-- hits: string (nullable = true)\n",
      " |-- pim: string (nullable = true)\n",
      " |-- powerPlayOpportunities: string (nullable = true)\n",
      " |-- powerPlayGoals: string (nullable = true)\n",
      " |-- faceOffWinPercentage: string (nullable = true)\n",
      " |-- giveaways: string (nullable = true)\n",
      " |-- takeaways: string (nullable = true)\n",
      "\n",
      "+----------+-------+----+-----+----------+----------------+-----+-----+----+---+----------------------+--------------+--------------------+---------+---------+\n",
      "|   game_id|team_id| HoA|  won|settled_in|      head_coach|goals|shots|hits|pim|powerPlayOpportunities|powerPlayGoals|faceOffWinPercentage|giveaways|takeaways|\n",
      "+----------+-------+----+-----+----------+----------------+-----+-----+----+---+----------------------+--------------+--------------------+---------+---------+\n",
      "|2011030221|      1|away|FALSE|        OT|    Peter DeBoer|    3|   26|  31| 12|                     3|             1|                44.9|        6|        7|\n",
      "|2011030221|      4|home| TRUE|        OT|Peter Laviolette|    4|   36|  27|  6|                     6|             1|                55.1|       13|        4|\n",
      "|2011030222|      1|away| TRUE|       REG|    Peter DeBoer|    4|   35|  32| 12|                     4|             0|                50.9|        8|        7|\n",
      "|2011030222|      4|home|FALSE|       REG|Peter Laviolette|    1|   20|  24| 32|                     5|             0|                49.1|        9|        6|\n",
      "|2011030223|      4|away|FALSE|        OT|Peter Laviolette|    3|   28|  28|  4|                     5|             1|                50.8|        2|        1|\n",
      "|2011030223|      1|home| TRUE|        OT|    Peter DeBoer|    4|   31|  30| 10|                     2|             1|                49.2|       11|        4|\n",
      "|2011030224|      4|away|FALSE|       REG|Peter Laviolette|    2|   22|  23| 10|                     2|             1|                62.5|       20|        5|\n",
      "|2011030224|      1|home| TRUE|       REG|    Peter DeBoer|    4|   43|  19|  4|                     5|             1|                37.5|        5|        3|\n",
      "|2011030225|      1|away| TRUE|       REG|    Peter DeBoer|    3|   30|  26|  2|                     4|             1|                  55|        6|        5|\n",
      "|2011030225|      4|home|FALSE|       REG|Peter Laviolette|    1|   28|  38|  8|                     1|             0|                  45|       14|        7|\n",
      "+----------+-------+----+-----+----------+----------------+-----+-----+----+---+----------------------+--------------+--------------------+---------+---------+\n",
      "\n"
     ]
    }
   ],
   "source": [
    "teams_file_path = '../../data/game_teams_stats.csv'\n",
    "df_raw = spark.read.csv(teams_file_path, \n",
    "                        header=True, \n",
    "                        mode=\"DROPMALFORMED\")\n",
    "df_raw.printSchema()\n",
    "df_raw.createOrReplaceTempView('teams_raw')\n",
    "spark.sql(\"\"\"\n",
    "SELECT * FROM teams_raw LIMIT 10\n",
    "\"\"\").show()"
   ]
  },
  {
   "cell_type": "code",
   "execution_count": 30,
   "metadata": {},
   "outputs": [
    {
     "name": "stdout",
     "output_type": "stream",
     "text": [
      "root\n",
      " |-- game_id: string (nullable = true)\n",
      " |-- team_id: integer (nullable = true)\n",
      " |-- HoA: string (nullable = true)\n",
      " |-- won: string (nullable = true)\n",
      " |-- settled_in: string (nullable = true)\n",
      " |-- head_coach: string (nullable = true)\n",
      " |-- goals: integer (nullable = true)\n",
      " |-- shots: integer (nullable = true)\n",
      " |-- hits: integer (nullable = true)\n",
      " |-- pim: integer (nullable = true)\n",
      " |-- powerPlayOpportunities: integer (nullable = true)\n",
      " |-- powerPlayGoals: integer (nullable = true)\n",
      " |-- faceOffWinPercentage: float (nullable = true)\n",
      " |-- giveaways: integer (nullable = true)\n",
      " |-- takeaways: integer (nullable = true)\n",
      "\n"
     ]
    }
   ],
   "source": [
    "df = spark.sql(\"\"\"\n",
    "SELECT game_id, CAST(team_id AS int), HoA, won, settled_in, head_coach, CAST(goals AS int), CAST(shots AS int), CAST(hits AS int), CAST(pim AS int), CAST(powerPlayOpportunities AS int), CAST(powerPlayGoals AS int), CAST(faceOffWinPercentage AS float), CAST(giveaways AS int), CAST(takeaways AS int)\n",
    "FROM teams_raw\n",
    "\"\"\")\n",
    "df.printSchema()"
   ]
  },
  {
   "cell_type": "code",
   "execution_count": 31,
   "metadata": {},
   "outputs": [],
   "source": [
    "df.write.format('jdbc').options(\n",
    "    url='jdbc:mysql://localhost/50_in_07',\n",
    "    driver='com.mysql.jdbc.Driver',\n",
    "    dbtable='teams',\n",
    "    user='root').mode('overwrite').save()"
   ]
  },
  {
   "cell_type": "markdown",
   "metadata": {},
   "source": [
    "Individual player information"
   ]
  },
  {
   "cell_type": "code",
   "execution_count": 32,
   "metadata": {},
   "outputs": [
    {
     "name": "stdout",
     "output_type": "stream",
     "text": [
      "root\n",
      " |-- player_id: string (nullable = true)\n",
      " |-- firstName: string (nullable = true)\n",
      " |-- lastName: string (nullable = true)\n",
      " |-- nationality: string (nullable = true)\n",
      " |-- birthCity: string (nullable = true)\n",
      " |-- primaryPosition: string (nullable = true)\n",
      " |-- birthDate: string (nullable = true)\n",
      " |-- link: string (nullable = true)\n",
      "\n",
      "+---------+---------+------------+-----------+-----------+---------------+----------+--------------------+\n",
      "|player_id|firstName|    lastName|nationality|  birthCity|primaryPosition| birthDate|                link|\n",
      "+---------+---------+------------+-----------+-----------+---------------+----------+--------------------+\n",
      "|  8467412|   Alexei|Ponikarovsky|        UKR|       Kiev|             LW|1980-04-09|/api/v1/people/84...|\n",
      "|  8468501|    Anton|  Volchenkov|        RUS|     Moscow|              D|1982-02-25|/api/v1/people/84...|\n",
      "|  8459670|    Kimmo|     Timonen|        FIN|     Kuopio|              D|1975-03-18|/api/v1/people/84...|\n",
      "|  8471233|   Travis|       Zajac|        CAN|   Winnipeg|              C|1985-05-13|/api/v1/people/84...|\n",
      "|  8455710|   Martin|     Brodeur|        CAN|   Montreal|              G|1972-05-06|/api/v1/people/84...|\n",
      "|  8475640|     Erik|  Gustafsson|        SWE|  Kvissleby|              D|1988-12-15|/api/v1/people/84...|\n",
      "|  8476177|     Matt|        Read|        CAN|   Ilderton|             RW|1986-06-14|/api/v1/people/84...|\n",
      "|  8464977|  Dainius|      Zubrus|        LTU| Elektrenai|              C|1978-06-16|/api/v1/people/84...|\n",
      "|  8474190|    Wayne|    Simmonds|        CAN|Scarborough|             RW|1988-08-26|/api/v1/people/84...|\n",
      "|  8464975|   Daniel|      Briere|        CAN|   Gatineau|              C|1977-10-06|/api/v1/people/84...|\n",
      "+---------+---------+------------+-----------+-----------+---------------+----------+--------------------+\n",
      "\n"
     ]
    }
   ],
   "source": [
    "player_info_file_path = '../../data/player_info.csv'\n",
    "df_raw = spark.read.csv(player_info_file_path, \n",
    "                        header=True, \n",
    "                        mode=\"DROPMALFORMED\")\n",
    "df_raw.printSchema()\n",
    "df_raw.createOrReplaceTempView('player_info_raw')\n",
    "spark.sql(\"\"\"\n",
    "SELECT * FROM player_info_raw LIMIT 10\n",
    "\"\"\").show()"
   ]
  },
  {
   "cell_type": "code",
   "execution_count": 33,
   "metadata": {},
   "outputs": [
    {
     "name": "stdout",
     "output_type": "stream",
     "text": [
      "root\n",
      " |-- player_id: integer (nullable = true)\n",
      " |-- firstName: string (nullable = true)\n",
      " |-- lastName: string (nullable = true)\n",
      " |-- nationality: string (nullable = true)\n",
      " |-- birthCity: string (nullable = true)\n",
      " |-- primaryPosition: string (nullable = true)\n",
      " |-- birthDate: date (nullable = true)\n",
      " |-- link: string (nullable = true)\n",
      "\n"
     ]
    }
   ],
   "source": [
    "df = spark.sql(\"\"\"\n",
    "SELECT CAST(player_id AS int), firstName, lastName, nationality, birthCity, primaryPosition, CAST(birthDate AS date), link\n",
    "FROM player_info_raw\n",
    "\"\"\")\n",
    "df.printSchema()"
   ]
  },
  {
   "cell_type": "code",
   "execution_count": 34,
   "metadata": {},
   "outputs": [],
   "source": [
    "df.write.format('jdbc').options(\n",
    "    url='jdbc:mysql://localhost/50_in_07',\n",
    "    driver='com.mysql.jdbc.Driver',\n",
    "    dbtable='player_info',\n",
    "    user='root').mode('overwrite').save()"
   ]
  },
  {
   "cell_type": "code",
   "execution_count": 35,
   "metadata": {},
   "outputs": [
    {
     "name": "stdout",
     "output_type": "stream",
     "text": [
      "root\n",
      " |-- team_id: string (nullable = true)\n",
      " |-- franchiseId: string (nullable = true)\n",
      " |-- shortName: string (nullable = true)\n",
      " |-- teamName: string (nullable = true)\n",
      " |-- abbreviation: string (nullable = true)\n",
      " |-- link: string (nullable = true)\n",
      "\n",
      "+-------+-----------+------------+---------+------------+----------------+\n",
      "|team_id|franchiseId|   shortName| teamName|abbreviation|            link|\n",
      "+-------+-----------+------------+---------+------------+----------------+\n",
      "|      1|         23|  New Jersey|   Devils|         NJD| /api/v1/teams/1|\n",
      "|      4|         16|Philadelphia|   Flyers|         PHI| /api/v1/teams/4|\n",
      "|     26|         14| Los Angeles|    Kings|         LAK|/api/v1/teams/26|\n",
      "|     14|         31|   Tampa Bay|Lightning|         TBL|/api/v1/teams/14|\n",
      "|      6|          6|      Boston|   Bruins|         BOS| /api/v1/teams/6|\n",
      "|      3|         10|  NY Rangers|  Rangers|         NYR| /api/v1/teams/3|\n",
      "|      5|         17|  Pittsburgh| Penguins|         PIT| /api/v1/teams/5|\n",
      "|     17|         12|     Detroit|Red Wings|         DET|/api/v1/teams/17|\n",
      "|     28|         29|    San Jose|   Sharks|         SJS|/api/v1/teams/28|\n",
      "|     18|         34|   Nashville|Predators|         NSH|/api/v1/teams/18|\n",
      "+-------+-----------+------------+---------+------------+----------------+\n",
      "\n"
     ]
    }
   ],
   "source": [
    "team_info_file_path = '../../data/team_info.csv'\n",
    "df_raw = spark.read.csv(team_info_file_path, \n",
    "                        header=True, \n",
    "                        mode=\"DROPMALFORMED\")\n",
    "df_raw.printSchema()\n",
    "df_raw.createOrReplaceTempView('team_info_raw')\n",
    "spark.sql(\"\"\"\n",
    "SELECT * FROM team_info_raw LIMIT 10\n",
    "\"\"\").show()"
   ]
  },
  {
   "cell_type": "code",
   "execution_count": 36,
   "metadata": {},
   "outputs": [
    {
     "name": "stdout",
     "output_type": "stream",
     "text": [
      "root\n",
      " |-- team_id: integer (nullable = true)\n",
      " |-- franchiseID: integer (nullable = true)\n",
      " |-- shortName: string (nullable = true)\n",
      " |-- teamName: string (nullable = true)\n",
      " |-- abbreviation: string (nullable = true)\n",
      " |-- link: string (nullable = true)\n",
      "\n"
     ]
    }
   ],
   "source": [
    "df = spark.sql(\"\"\"\n",
    "SELECT CAST(team_id AS int), CAST(franchiseID AS int), shortName, teamName, abbreviation, link\n",
    "FROM team_info_raw\n",
    "\"\"\")\n",
    "df.printSchema()"
   ]
  },
  {
   "cell_type": "code",
   "execution_count": 37,
   "metadata": {},
   "outputs": [],
   "source": [
    "df.write.format('jdbc').options(\n",
    "    url='jdbc:mysql://localhost/50_in_07',\n",
    "    driver='com.mysql.jdbc.Driver',\n",
    "    dbtable='team_info',\n",
    "    user='root').mode('overwrite').save()"
   ]
  },
  {
   "cell_type": "markdown",
   "metadata": {},
   "source": [
    "Play information"
   ]
  },
  {
   "cell_type": "code",
   "execution_count": 38,
   "metadata": {},
   "outputs": [
    {
     "name": "stdout",
     "output_type": "stream",
     "text": [
      "root\n",
      " |-- play_id: string (nullable = true)\n",
      " |-- game_id: string (nullable = true)\n",
      " |-- play_num: string (nullable = true)\n",
      " |-- team_id_for: string (nullable = true)\n",
      " |-- team_id_against: string (nullable = true)\n",
      " |-- event: string (nullable = true)\n",
      " |-- secondaryType: string (nullable = true)\n",
      " |-- x: string (nullable = true)\n",
      " |-- y: string (nullable = true)\n",
      " |-- period: string (nullable = true)\n",
      " |-- periodType: string (nullable = true)\n",
      " |-- periodTime: string (nullable = true)\n",
      " |-- periodTimeRemaining: string (nullable = true)\n",
      " |-- dateTime: string (nullable = true)\n",
      " |-- goals_away: string (nullable = true)\n",
      " |-- goals_home: string (nullable = true)\n",
      " |-- description: string (nullable = true)\n",
      " |-- st_x: string (nullable = true)\n",
      " |-- st_y: string (nullable = true)\n",
      " |-- rink_side: string (nullable = true)\n",
      "\n",
      "+-------------+----------+--------+-----------+---------------+--------------+-------------+---+---+------+----------+----------+-------------------+-------------------+----------+----------+--------------------+----+----+---------+\n",
      "|      play_id|   game_id|play_num|team_id_for|team_id_against|         event|secondaryType|  x|  y|period|periodType|periodTime|periodTimeRemaining|           dateTime|goals_away|goals_home|         description|st_x|st_y|rink_side|\n",
      "+-------------+----------+--------+-----------+---------------+--------------+-------------+---+---+------+----------+----------+-------------------+-------------------+----------+----------+--------------------+----+----+---------+\n",
      "| 2011030221_1|2011030221|       1|         NA|             NA|Game Scheduled|           NA| NA| NA|     1|   REGULAR|         0|               1200|2012-04-29 18:16:06|         0|         0|      Game Scheduled|  NA|  NA|       NA|\n",
      "| 2011030221_2|2011030221|       2|         NA|             NA|  Period Ready|           NA| NA| NA|     1|   REGULAR|         0|               1200|2012-04-29 19:19:49|         0|         0|        Period Ready|  NA|  NA|       NA|\n",
      "| 2011030221_3|2011030221|       3|         NA|             NA|  Period Start|           NA| NA| NA|     1|   REGULAR|         0|               1200|2012-04-29 19:20:13|         0|         0|        Period Start|  NA|  NA|       NA|\n",
      "| 2011030221_4|2011030221|       4|          4|              1|       Faceoff|           NA|  0|  0|     1|   REGULAR|         0|               1200|2012-04-29 19:20:13|         0|         0|Sean Couturier fa...|   0|   0|    right|\n",
      "| 2011030221_5|2011030221|       5|          4|              1|      Giveaway|           NA| 28| 24|     1|   REGULAR|        21|               1179|2012-04-29 19:21:02|         0|         0|Giveaway by Kimmo...| -28| -24|    right|\n",
      "| 2011030221_6|2011030221|       6|          4|              1|  Blocked Shot|           NA| 52| 28|     1|   REGULAR|        26|               1174|2012-04-29 19:21:07|         0|         0|Max Talbot blocke...| -52| -28|    right|\n",
      "| 2011030221_7|2011030221|       7|          1|              4|          Shot|   Wrist Shot| 80| -3|     1|   REGULAR|        30|               1170|2012-04-29 19:21:12|         0|         0|Patrik Elias Wris...|  80|  -3|     left|\n",
      "| 2011030221_8|2011030221|       8|          1|              4|           Hit|           NA|-30|-38|     1|   REGULAR|        60|               1140|2012-04-29 19:21:40|         0|         0|Marek Zidlicky hi...| -30| -38|     left|\n",
      "| 2011030221_9|2011030221|       9|          4|              1|      Giveaway|           NA|-60| 39|     1|   REGULAR|        94|               1106|2012-04-29 19:22:14|         0|         0|Giveaway by Scott...|  60| -39|    right|\n",
      "|2011030221_10|2011030221|      10|         NA|             NA|      Stoppage|           NA| NA| NA|     1|   REGULAR|       118|               1082|2012-04-29 19:22:42|         0|         0|     Puck in Benches|  NA|  NA|       NA|\n",
      "+-------------+----------+--------+-----------+---------------+--------------+-------------+---+---+------+----------+----------+-------------------+-------------------+----------+----------+--------------------+----+----+---------+\n",
      "\n"
     ]
    }
   ],
   "source": [
    "plays_file_path = '../../data/game_plays.csv'\n",
    "df_raw = spark.read.csv(plays_file_path, \n",
    "                        header=True, \n",
    "                        mode=\"DROPMALFORMED\")\n",
    "df_raw.printSchema()\n",
    "df_raw.createOrReplaceTempView('plays_raw')\n",
    "spark.sql(\"\"\"\n",
    "SELECT * FROM plays_raw LIMIT 10\n",
    "\"\"\").show()"
   ]
  },
  {
   "cell_type": "code",
   "execution_count": 73,
   "metadata": {},
   "outputs": [
    {
     "name": "stdout",
     "output_type": "stream",
     "text": [
      "root\n",
      " |-- play_id: string (nullable = true)\n",
      " |-- game_id: string (nullable = true)\n",
      " |-- play_num: integer (nullable = true)\n",
      " |-- team_id_for: integer (nullable = true)\n",
      " |-- team_id_against: integer (nullable = true)\n",
      " |-- event: string (nullable = true)\n",
      " |-- secondaryType: string (nullable = true)\n",
      " |-- x: integer (nullable = true)\n",
      " |-- y: integer (nullable = true)\n",
      " |-- period: integer (nullable = true)\n",
      " |-- periodType: string (nullable = true)\n",
      " |-- periodTime: integer (nullable = true)\n",
      " |-- periodTimeRemaining: integer (nullable = true)\n",
      " |-- dateTime: timestamp (nullable = true)\n",
      " |-- goals_away: integer (nullable = true)\n",
      " |-- goals_home: integer (nullable = true)\n",
      " |-- description: string (nullable = true)\n",
      " |-- rink_side: string (nullable = true)\n",
      "\n"
     ]
    }
   ],
   "source": [
    "df = spark.sql(\"\"\"\n",
    "SELECT play_id, game_id, CAST(play_num AS int), CAST(team_id_for AS int), CAST(team_id_against AS int), event, secondaryType, CAST(x AS int), CAST(y AS int), CAST(period AS int), periodType, CAST(periodTime AS int), CAST(periodTimeRemaining AS int), CAST(dateTime AS timestamp), CAST(goals_away AS int), CAST(goals_home AS int), description, rink_side\n",
    "FROM plays_raw\n",
    "\"\"\")\n",
    "df.printSchema()"
   ]
  },
  {
   "cell_type": "code",
   "execution_count": 74,
   "metadata": {},
   "outputs": [],
   "source": [
    "df.write.format('jdbc').options(\n",
    "    url='jdbc:mysql://localhost/50_in_07',\n",
    "    driver='com.mysql.jdbc.Driver',\n",
    "    dbtable='plays',\n",
    "    user='root').mode('overwrite').save()"
   ]
  },
  {
   "cell_type": "markdown",
   "metadata": {},
   "source": [
    "Plays by player information"
   ]
  },
  {
   "cell_type": "code",
   "execution_count": 5,
   "metadata": {},
   "outputs": [
    {
     "name": "stdout",
     "output_type": "stream",
     "text": [
      "root\n",
      " |-- play_id: string (nullable = true)\n",
      " |-- game_id: string (nullable = true)\n",
      " |-- play_num: string (nullable = true)\n",
      " |-- player_id: string (nullable = true)\n",
      " |-- playerType: string (nullable = true)\n",
      "\n",
      "+------------+----------+--------+---------+----------+\n",
      "|     play_id|   game_id|play_num|player_id|playerType|\n",
      "+------------+----------+--------+---------+----------+\n",
      "|2011030221_4|2011030221|       4|  8476461|    Winner|\n",
      "|2011030221_4|2011030221|       4|  8460542|     Loser|\n",
      "|2011030221_5|2011030221|       5|  8459670|  PlayerID|\n",
      "|2011030221_6|2011030221|       6|  8470171|   Blocker|\n",
      "|2011030221_6|2011030221|       6|  8460542|   Shooter|\n",
      "|2011030221_7|2011030221|       7|  8460542|   Shooter|\n",
      "|2011030221_7|2011030221|       7|  8468524|    Goalie|\n",
      "|2011030221_8|2011030221|       8|  8469623|    Hitter|\n",
      "|2011030221_8|2011030221|       8|  8448208|    Hittee|\n",
      "|2011030221_9|2011030221|       9|  8468486|  PlayerID|\n",
      "+------------+----------+--------+---------+----------+\n",
      "\n"
     ]
    }
   ],
   "source": [
    "player_plays_file_path = '../../data/game_plays_players.csv'\n",
    "df_raw = spark.read.csv(player_plays_file_path, \n",
    "                        header=True, \n",
    "                        mode=\"DROPMALFORMED\")\n",
    "df_raw.printSchema()\n",
    "df_raw.createOrReplaceTempView('player_plays_raw')\n",
    "spark.sql(\"\"\"\n",
    "SELECT * FROM player_plays_raw LIMIT 10\n",
    "\"\"\").show()"
   ]
  },
  {
   "cell_type": "code",
   "execution_count": 7,
   "metadata": {},
   "outputs": [
    {
     "name": "stdout",
     "output_type": "stream",
     "text": [
      "root\n",
      " |-- play_id: string (nullable = true)\n",
      " |-- game_id: string (nullable = true)\n",
      " |-- play_num: integer (nullable = true)\n",
      " |-- player_id: integer (nullable = true)\n",
      " |-- playerType: string (nullable = true)\n",
      "\n"
     ]
    }
   ],
   "source": [
    "df = spark.sql(\"\"\"\n",
    "SELECT play_id, game_id, CAST(play_num AS int), CAST(player_id AS int), playerType\n",
    "FROM player_plays_raw\n",
    "\"\"\")\n",
    "df.printSchema()"
   ]
  },
  {
   "cell_type": "code",
   "execution_count": 8,
   "metadata": {},
   "outputs": [],
   "source": [
    "df.write.format('jdbc').options(\n",
    "    url='jdbc:mysql://localhost/50_in_07',\n",
    "    driver='com.mysql.jdbc.Driver',\n",
    "    dbtable='player_plays',\n",
    "    user='root').mode('overwrite').save()"
   ]
  },
  {
   "cell_type": "markdown",
   "metadata": {},
   "source": [
    "Shifts information"
   ]
  },
  {
   "cell_type": "code",
   "execution_count": 9,
   "metadata": {},
   "outputs": [
    {
     "name": "stdout",
     "output_type": "stream",
     "text": [
      "root\n",
      " |-- game_id: string (nullable = true)\n",
      " |-- player_id: string (nullable = true)\n",
      " |-- period: string (nullable = true)\n",
      " |-- shift_start: string (nullable = true)\n",
      " |-- shift_end: string (nullable = true)\n",
      "\n",
      "+----------+---------+------+-----------+---------+\n",
      "|   game_id|player_id|period|shift_start|shift_end|\n",
      "+----------+---------+------+-----------+---------+\n",
      "|2016030161|  8477964|     3|       2729|     2730|\n",
      "|2016030161|  8475768|     3|       2729|     2730|\n",
      "|2016030161|  8474125|     2|       1772|     1773|\n",
      "|2016030161|  8470595|     4|       4212|     4214|\n",
      "|2016030161|  8474618|     1|        614|      616|\n",
      "|2016030161|  8470803|     2|       1819|     1821|\n",
      "|2016030161|  8474716|     4|       3749|     3752|\n",
      "|2016030161|  8475799|     4|       3749|     3752|\n",
      "|2016030161|  8470600|     4|       3749|     3752|\n",
      "|2016030161|  8470610|     4|       3749|     3752|\n",
      "+----------+---------+------+-----------+---------+\n",
      "\n"
     ]
    }
   ],
   "source": [
    "shifts_file_path = '../../data/game_shifts.csv'\n",
    "df_raw = spark.read.csv(shifts_file_path, \n",
    "                        header=True, \n",
    "                        mode=\"DROPMALFORMED\")\n",
    "df_raw.printSchema()\n",
    "df_raw.createOrReplaceTempView('shifts_raw')\n",
    "spark.sql(\"\"\"\n",
    "SELECT * FROM shifts_raw LIMIT 10\n",
    "\"\"\").show()"
   ]
  },
  {
   "cell_type": "code",
   "execution_count": 10,
   "metadata": {},
   "outputs": [
    {
     "name": "stdout",
     "output_type": "stream",
     "text": [
      "root\n",
      " |-- game_id: string (nullable = true)\n",
      " |-- player_id: integer (nullable = true)\n",
      " |-- period: integer (nullable = true)\n",
      " |-- shift_start: integer (nullable = true)\n",
      " |-- shift_end: integer (nullable = true)\n",
      "\n"
     ]
    }
   ],
   "source": [
    "df = spark.sql(\"\"\"\n",
    "SELECT game_id, CAST(player_id AS int), CAST(period AS int), CAST(shift_start AS int), CAST(shift_end AS int)\n",
    "FROM shifts_raw\n",
    "\"\"\")\n",
    "df.printSchema()"
   ]
  },
  {
   "cell_type": "code",
   "execution_count": 11,
   "metadata": {},
   "outputs": [],
   "source": [
    "df.write.format('jdbc').options(\n",
    "    url='jdbc:mysql://localhost/50_in_07',\n",
    "    driver='com.mysql.jdbc.Driver',\n",
    "    dbtable='shifts',\n",
    "    user='root').mode('overwrite').save()"
   ]
  },
  {
   "cell_type": "code",
   "execution_count": null,
   "metadata": {},
   "outputs": [],
   "source": []
  }
 ],
 "metadata": {
  "kernelspec": {
   "display_name": "Python 3",
   "language": "python",
   "name": "python3"
  },
  "language_info": {
   "codemirror_mode": {
    "name": "ipython",
    "version": 3
   },
   "file_extension": ".py",
   "mimetype": "text/x-python",
   "name": "python",
   "nbconvert_exporter": "python",
   "pygments_lexer": "ipython3",
   "version": "3.7.6"
  }
 },
 "nbformat": 4,
 "nbformat_minor": 4
}
