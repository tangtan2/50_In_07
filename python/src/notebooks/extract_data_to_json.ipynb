{
 "cells": [
  {
   "cell_type": "code",
   "execution_count": 2,
   "id": "893f4261",
   "metadata": {},
   "outputs": [],
   "source": [
    "import psycopg2\n",
    "import json"
   ]
  },
  {
   "cell_type": "code",
   "execution_count": 29,
   "id": "72889d92",
   "metadata": {},
   "outputs": [],
   "source": [
    "connection = psycopg2.connect(\n",
    "    host=\"localhost\",\n",
    "    database=\"50_in_07\",\n",
    "    user=\"tanyatang\")"
   ]
  },
  {
   "cell_type": "code",
   "execution_count": 30,
   "id": "6bcdf46c",
   "metadata": {},
   "outputs": [],
   "source": [
    "cursor = connection.cursor()\n",
    "cursor.execute(\n",
    "    \"\"\"\n",
    "    WITH data AS (SELECT players.first_name\n",
    "                       , players.last_name\n",
    "                       , players.current_age\n",
    "                       , players.height\n",
    "                       , players.weight\n",
    "                       , players.primary_position\n",
    "                       , teams.name AS opposing_team\n",
    "                       , game_play_players.play_player_type\n",
    "                       , game_plays.play_num\n",
    "                       , game_plays.play_type\n",
    "                       , game_plays.description\n",
    "                       , game_plays.period_type\n",
    "                       , game_plays.away_team_goals\n",
    "                       , game_plays.home_team_goals\n",
    "                       , game_plays.x_coordinate\n",
    "                       , game_plays.y_coordinate\n",
    "                    FROM players\n",
    "                    JOIN game_play_players\n",
    "                      ON players.id = game_play_players.player_id\n",
    "                    JOIN game_plays\n",
    "                      ON (game_play_players.game_id = game_plays.game_id\n",
    "                          AND game_play_players.play_num = game_plays.play_num)\n",
    "                    JOIN games\n",
    "                      ON game_plays.game_id = games.id\n",
    "                    JOIN teams\n",
    "                      ON (games.home_team_id + games.away_team_id - 10) = teams.id)\n",
    "          SELECT row_to_json(data.*)\n",
    "            FROM data\n",
    "    \"\"\")\n",
    "results = cursor.fetchall()\n",
    "cursor.close()"
   ]
  },
  {
   "cell_type": "code",
   "execution_count": 31,
   "id": "0b0350de",
   "metadata": {},
   "outputs": [],
   "source": [
    "with open(\"../../../data/game_play_data.json\", \"w\") as file:\n",
    "    json.dump(results, file)"
   ]
  },
  {
   "cell_type": "code",
   "execution_count": 20,
   "id": "a2c7a5fb",
   "metadata": {},
   "outputs": [],
   "source": [
    "cursor = connection.cursor()\n",
    "cursor.execute(\n",
    "    \"\"\"\n",
    "    WITH data AS (SELECT games.date\n",
    "                       , games.game_type\n",
    "                       , game_goalies.shots\n",
    "                       , game_goalies.saves\n",
    "                       , game_goalies.power_play_shots_against\n",
    "                       , game_goalies.power_play_saves\n",
    "                       , game_goalies.short_handed_shots_against\n",
    "                       , game_goalies.short_handed_saves\n",
    "                       , players.first_name\n",
    "                       , players.last_name\n",
    "                       , players.current_age\n",
    "                       , players.height\n",
    "                       , players.weight\n",
    "                       , teams.name\n",
    "                    FROM games \n",
    "                    JOIN game_goalies\n",
    "                      ON games.id = game_goalies.game_id\n",
    "                    JOIN players\n",
    "                      ON game_goalies.player_id = players.id\n",
    "                    JOIN teams\n",
    "                      ON (games.away_team_id + games.home_team_id - 10) = teams.id\n",
    "                   WHERE players.id = 8475883)\n",
    "          SELECT row_to_json(data.*)\n",
    "            FROM data\n",
    "    \"\"\")\n",
    "results = cursor.fetchall()\n",
    "cursor.close()"
   ]
  },
  {
   "cell_type": "code",
   "execution_count": 21,
   "id": "419f2d01",
   "metadata": {},
   "outputs": [],
   "source": [
    "with open(\"../../../data/andersen_goalie_data.json\", \"w\") as file:\n",
    "    json.dump(results, file)"
   ]
  },
  {
   "cell_type": "code",
   "execution_count": 22,
   "id": "df585d42",
   "metadata": {},
   "outputs": [],
   "source": [
    "cursor = connection.cursor()\n",
    "cursor.execute(\n",
    "    \"\"\"\n",
    "    WITH data AS (SELECT games.date\n",
    "                       , games.game_type\n",
    "                       , game_details.power_play_strength\n",
    "                       , game_details.has_shootout\n",
    "                       , game_players.time_on_ice\n",
    "                       , game_players.assists\n",
    "                       , game_players.goals\n",
    "                       , game_players.shots\n",
    "                       , game_players.hits\n",
    "                       , game_players.power_play_assists\n",
    "                       , game_players.power_play_goals\n",
    "                       , game_players.penalty_minutes\n",
    "                       , game_players.faceoffs_won\n",
    "                       , game_players.faceoffs_taken\n",
    "                       , game_players.takeaways\n",
    "                       , game_players.giveaways\n",
    "                       , game_players.short_handed_assists\n",
    "                       , game_players.short_handed_goals\n",
    "                       , game_players.blocked\n",
    "                       , game_players.plus_minus\n",
    "                       , game_players.even_time_on_ice\n",
    "                       , game_players.power_play_time_on_ice\n",
    "                       , game_players.short_handed_time_on_ice\n",
    "                       , players.first_name\n",
    "                       , players.last_name\n",
    "                       , players.current_age\n",
    "                       , players.height\n",
    "                       , players.weight\n",
    "                    FROM games\n",
    "                    JOIN game_details\n",
    "                      ON games.id = game_details.game_id\n",
    "                    JOIN game_players\n",
    "                      ON games.id = game_players.game_id\n",
    "                    JOIN players\n",
    "                      ON game_players.player_id = players.id)\n",
    "          SELECT row_to_json(data.*)\n",
    "            FROM data\n",
    "    \"\"\"\n",
    ")\n",
    "results = cursor.fetchall()\n",
    "cursor.close()"
   ]
  },
  {
   "cell_type": "code",
   "execution_count": 23,
   "id": "e7ec1aae",
   "metadata": {},
   "outputs": [],
   "source": [
    "with open(\"../../../data/game_and_game_player_data.json\", \"w\") as file:\n",
    "    json.dump(results, file)"
   ]
  },
  {
   "cell_type": "code",
   "execution_count": null,
   "id": "9f5d7cba",
   "metadata": {},
   "outputs": [],
   "source": [
    "connection.close()"
   ]
  }
 ],
 "metadata": {
  "kernelspec": {
   "display_name": "Python 3",
   "language": "python",
   "name": "python3"
  },
  "language_info": {
   "codemirror_mode": {
    "name": "ipython",
    "version": 3
   },
   "file_extension": ".py",
   "mimetype": "text/x-python",
   "name": "python",
   "nbconvert_exporter": "python",
   "pygments_lexer": "ipython3",
   "version": "3.9.3"
  }
 },
 "nbformat": 4,
 "nbformat_minor": 5
}
