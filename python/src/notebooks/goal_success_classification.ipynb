{
 "cells": [
  {
   "cell_type": "markdown",
   "id": "1d8923cf",
   "metadata": {},
   "source": [
    "# Predicting Goal Success for the Maple Leafs\n",
    "___"
   ]
  },
  {
   "cell_type": "code",
   "execution_count": 259,
   "id": "dd5f03bb",
   "metadata": {},
   "outputs": [],
   "source": [
    "import psycopg2\n",
    "import json\n",
    "import pandas as pd\n",
    "import numpy as np\n",
    "import matplotlib.pyplot as plt\n",
    "import matplotlib.ticker as mtick\n",
    "from sklearn import svm, preprocessing, pipeline, set_config, compose, model_selection, ensemble"
   ]
  },
  {
   "cell_type": "markdown",
   "id": "09148732",
   "metadata": {},
   "source": [
    "### Data Preparation\n",
    "___"
   ]
  },
  {
   "cell_type": "code",
   "execution_count": 193,
   "id": "4508597c",
   "metadata": {},
   "outputs": [],
   "source": [
    "# create connection to database\n",
    "connection = psycopg2.connect(\n",
    "    host=\"localhost\",\n",
    "    database=\"50_in_07\",\n",
    "    user=\"tanyatang\")"
   ]
  },
  {
   "cell_type": "code",
   "execution_count": 194,
   "id": "319f7758",
   "metadata": {},
   "outputs": [],
   "source": [
    "# select relevant data from database\n",
    "cursor = connection.cursor()\n",
    "cursor.execute(\n",
    "    \"\"\"\n",
    "    WITH data AS (SELECT players.first_name\n",
    "                       , players.last_name\n",
    "                       , CONCAT(players.first_name, ' ', players.last_name) as full_name\n",
    "                       , players.current_age\n",
    "                       , players.height\n",
    "                       , players.weight\n",
    "                       , players.primary_position\n",
    "                       , teams0.name AS opposing_team\n",
    "                       , teams2.name AS away_team\n",
    "                       , teams1.name AS home_team\n",
    "                       , game_play_players.play_player_type\n",
    "                       , game_plays.play_num\n",
    "                       , game_plays.play_type\n",
    "                       , game_plays.description\n",
    "                       , game_plays.period_type\n",
    "                       , game_plays.away_team_goals\n",
    "                       , game_plays.home_team_goals\n",
    "                       , game_plays.x_coordinate\n",
    "                       , game_plays.y_coordinate\n",
    "                    FROM players\n",
    "                    JOIN game_play_players\n",
    "                      ON players.id = game_play_players.player_id\n",
    "                    JOIN game_plays\n",
    "                      ON (game_play_players.game_id = game_plays.game_id\n",
    "                          AND game_play_players.play_num = game_plays.play_num)\n",
    "                    JOIN games\n",
    "                      ON game_plays.game_id = games.id\n",
    "                    JOIN teams AS teams0\n",
    "                      ON (games.home_team_id + games.away_team_id - 10) = teams0.id\n",
    "                    JOIN teams AS teams1\n",
    "                      ON games.home_team_id = teams1.id\n",
    "                    JOIN teams AS teams2\n",
    "                      ON games.away_team_id = teams2.id)\n",
    "          SELECT row_to_json(data.*)\n",
    "            FROM data\n",
    "    \"\"\")\n",
    "results = cursor.fetchall()\n",
    "cursor.close()"
   ]
  },
  {
   "cell_type": "code",
   "execution_count": 195,
   "id": "835fb8ef",
   "metadata": {},
   "outputs": [],
   "source": [
    "# close connection\n",
    "connection.close()"
   ]
  },
  {
   "cell_type": "code",
   "execution_count": 213,
   "id": "329e154c",
   "metadata": {},
   "outputs": [],
   "source": [
    "# add ratio of leafs goals to total goals per play\n",
    "all_data = list(map(lambda x: x[0], results))\n",
    "goal_data = list(filter(lambda x: (x['play_type'] == 'Goal' or\n",
    "                                  x['play_type'] == 'Shot' or\n",
    "                                  x['play_type'] == 'Blocked Shot' or\n",
    "                                  x['play_type'] == 'Missed Shot') and\n",
    "                                  x['play_player_type'] != 'Goalie' and\n",
    "                                  x['play_player_type'] != 'Unknown' and \n",
    "                                  x['play_player_type'] != 'Assist' and\n",
    "                                  x['play_player_type'] != 'Blocker', all_data))\n",
    "for play in goal_data:\n",
    "    if play['opposing_team'] == play['home_team']:\n",
    "        if play['home_team_goals'] == 0:\n",
    "            play['goal_ratio'] = 1\n",
    "        else:\n",
    "            play['goal_ratio'] = play['away_team_goals'] / (play['home_team_goals'] + play['away_team_goals'])\n",
    "    elif play['opposing_team'] == play['away_team']:\n",
    "        if play['away_team_goals'] == 0:\n",
    "            play['goal_ratio'] = 1\n",
    "        else:\n",
    "            play['goal_ratio'] = play['home_team_goals'] / (play['away_team_goals'] + play['home_team_goals'])\n",
    "    else:\n",
    "        print('Error')"
   ]
  },
  {
   "cell_type": "code",
   "execution_count": 214,
   "id": "faeccda8",
   "metadata": {},
   "outputs": [
    {
     "name": "stdout",
     "output_type": "stream",
     "text": [
      "  first_name last_name         full_name  current_age  height  weight  \\\n",
      "0    William  Nylander  William Nylander           24      72     196   \n",
      "1    William  Nylander  William Nylander           24      72     196   \n",
      "2   Mitchell    Marner   Mitchell Marner           23      72     175   \n",
      "3    William  Nylander  William Nylander           24      72     196   \n",
      "4    William  Nylander  William Nylander           24      72     196   \n",
      "\n",
      "  primary_position   opposing_team            away_team       home_team  \\\n",
      "0       Right Wing  Buffalo Sabres  Toronto Maple Leafs  Buffalo Sabres   \n",
      "1       Right Wing  Buffalo Sabres  Toronto Maple Leafs  Buffalo Sabres   \n",
      "2       Right Wing  Buffalo Sabres  Toronto Maple Leafs  Buffalo Sabres   \n",
      "3       Right Wing  Buffalo Sabres  Toronto Maple Leafs  Buffalo Sabres   \n",
      "4       Right Wing  Buffalo Sabres  Toronto Maple Leafs  Buffalo Sabres   \n",
      "\n",
      "  play_player_type  play_num     play_type  \\\n",
      "0           Scorer        24          Goal   \n",
      "1          Shooter       126          Shot   \n",
      "2          Shooter       138          Shot   \n",
      "3          Shooter       201  Blocked Shot   \n",
      "4          Shooter       273          Shot   \n",
      "\n",
      "                                         description period_type  \\\n",
      "0  William Nylander (1) Tip-In, assists: Jake Gar...     REGULAR   \n",
      "1     William Nylander Wrist Shot saved by John Muse     REGULAR   \n",
      "2       Mitchell Marner Slap Shot saved by John Muse     REGULAR   \n",
      "3  Dmitry Kulikov blocked shot from William Nylander     REGULAR   \n",
      "4     William Nylander Wrist Shot saved by John Muse     REGULAR   \n",
      "\n",
      "   away_team_goals  home_team_goals  x_coordinate  y_coordinate  goal_ratio  \n",
      "0                1                0          61.0          -3.0    1.000000  \n",
      "1                5                1         -35.0         -31.0    0.833333  \n",
      "2                5                1         -60.0          -3.0    0.833333  \n",
      "3                8                1          46.0          -8.0    0.888889  \n",
      "4                8                1          49.0          30.0    0.888889  \n"
     ]
    }
   ],
   "source": [
    "# create pandas dataframe\n",
    "goal_data = pd.json_normalize(goal_data)\n",
    "print(goal_data.head(5))"
   ]
  },
  {
   "cell_type": "markdown",
   "id": "f704f19e",
   "metadata": {},
   "source": [
    "### Data Visualization\n",
    "___"
   ]
  },
  {
   "cell_type": "code",
   "execution_count": 180,
   "id": "c89a2929",
   "metadata": {},
   "outputs": [],
   "source": [
    "# set maplotlib parameters\n",
    "plt.style.use('seaborn-darkgrid')\n",
    "plt.rc('axes', labelsize=12)\n",
    "plt.rc('xtick', labelsize=10)\n",
    "plt.rc('ytick', labelsize=10)\n",
    "plt.rc('legend', fontsize=10)\n",
    "plt.rcParams['figure.figsize'] = (10, 6)"
   ]
  },
  {
   "cell_type": "code",
   "execution_count": 188,
   "id": "4aa8c35d",
   "metadata": {},
   "outputs": [
    {
     "data": {
      "image/png": "[encoded data removed]",
      "text/plain": [
       "<Figure size 720x432 with 1 Axes>"
      ]
     },
     "metadata": {},
     "output_type": "display_data"
    }
   ],
   "source": [
    "# plot distribution of unsuccesful shots and goals for players\n",
    "goals_per_player = goal_data.groupby(['full_name', 'play_player_type'])['full_name']\n",
    "ax = goals_per_player.count().unstack().plot(kind='bar', stacked=True)\n",
    "ax.set_xlabel('Player Name', labelpad=10)\n",
    "ax.legend(loc='lower left', bbox_to_anchor=(1.0, 0.88))\n",
    "plt.show()"
   ]
  },
  {
   "cell_type": "code",
   "execution_count": 189,
   "id": "c4415696",
   "metadata": {},
   "outputs": [
    {
     "data": {
      "image/png": "[encoded data removed]",
      "text/plain": [
       "<Figure size 720x432 with 1 Axes>"
      ]
     },
     "metadata": {},
     "output_type": "display_data"
    }
   ],
   "source": [
    "# plot normalized split between success and failure for each player\n",
    "ax = goals_per_player.count().groupby(level=0).apply(\n",
    "    lambda x: 100 * x / x.sum()\n",
    ").unstack().plot(kind='bar', stacked=True)\n",
    "plt.gca().yaxis.set_major_formatter(mtick.PercentFormatter())\n",
    "ax.set_xlabel('Player Name', labelpad=10)\n",
    "ax.legend(loc='lower left', bbox_to_anchor=(1.0, 0.88))\n",
    "plt.show()"
   ]
  },
  {
   "cell_type": "markdown",
   "id": "c9746c99",
   "metadata": {},
   "source": [
    "### Data Preprocessing\n",
    "___"
   ]
  },
  {
   "cell_type": "code",
   "execution_count": 247,
   "id": "9b588e6b",
   "metadata": {},
   "outputs": [],
   "source": [
    "# separate data into X and y sets\n",
    "X = goal_data.loc[:, goal_data.columns != 'play_player_type']\n",
    "y = goal_data['play_player_type']"
   ]
  },
  {
   "cell_type": "code",
   "execution_count": 248,
   "id": "1e7350e5",
   "metadata": {},
   "outputs": [],
   "source": [
    "# binarize classes\n",
    "binarizer = preprocessing.LabelBinarizer()\n",
    "binarizer.fit(['Scorer', 'Shooter'])\n",
    "y = binarizer.transform(y)"
   ]
  },
  {
   "cell_type": "code",
   "execution_count": 249,
   "id": "82b0a86a",
   "metadata": {},
   "outputs": [],
   "source": [
    "# encode categorical features for full name, position, opposing team, and period type\n",
    "# all data has been verified and cleaned before so there are no missing or unknown values\n",
    "categorical_features = ['full_name', 'primary_position', 'opposing_team', 'period_type']\n",
    "categorical_transformer = preprocessing.OneHotEncoder(handle_unknown='ignore')"
   ]
  },
  {
   "cell_type": "code",
   "execution_count": 250,
   "id": "4d0ea607",
   "metadata": {},
   "outputs": [],
   "source": [
    "# normalize numerical features for height, weight, x coordinate, y coordinate, goal ratio\n",
    "# all data has been verified and cleaned before so there are no missing or unknown values\n",
    "numerical_features = ['height', 'weight', 'x_coordinate', 'y_coordinate', 'goal_ratio']\n",
    "numerical_transformer = StandardScaler()"
   ]
  },
  {
   "cell_type": "code",
   "execution_count": 251,
   "id": "7ae3808a",
   "metadata": {},
   "outputs": [],
   "source": [
    "# create column transformer that applies both numerical and categorical transformers\n",
    "preprocessor = compose.ColumnTransformer(\n",
    "    transformers = [\n",
    "        ('categorical', categorical_transformer, categorical_features),\n",
    "        ('numerical', numerical_transformer, numerical_features)\n",
    "    ]\n",
    ")"
   ]
  },
  {
   "cell_type": "code",
   "execution_count": 252,
   "id": "cb01d6d5",
   "metadata": {},
   "outputs": [],
   "source": [
    "# split data into training, validation, and testing sets\n",
    "X_train, X_test, y_train, y_test = model_selection.train_test_split(\n",
    "    X, y, test_size=0.4, random_state=0\n",
    ")\n",
    "X_valid, X_test, y_valid, y_test = model_selection.train_test_split(\n",
    "    X_test, y_test, test_size=0.6, random_state=0\n",
    ")"
   ]
  },
  {
   "cell_type": "markdown",
   "id": "e1d6d8ce",
   "metadata": {},
   "source": [
    "### Support Vector Machine Classification\n",
    "___"
   ]
  },
  {
   "cell_type": "code",
   "execution_count": 253,
   "id": "afba5724",
   "metadata": {},
   "outputs": [],
   "source": [
    "# create model\n",
    "model_svm = svm.SVC(kernel='rbf', class_weight='balanced')"
   ]
  },
  {
   "cell_type": "code",
   "execution_count": 254,
   "id": "b4a67f40",
   "metadata": {},
   "outputs": [
    {
     "data": {
      "text/html": [
       "<style>#sk-b649568c-a396-43ac-81ca-6e3e38611eab {color: black;background-color: white;}#sk-b649568c-a396-43ac-81ca-6e3e38611eab pre{padding: 0;}#sk-b649568c-a396-43ac-81ca-6e3e38611eab div.sk-toggleable {background-color: white;}#sk-b649568c-a396-43ac-81ca-6e3e38611eab label.sk-toggleable__label {cursor: pointer;display: block;width: 100%;margin-bottom: 0;padding: 0.2em 0.3em;box-sizing: border-box;text-align: center;}#sk-b649568c-a396-43ac-81ca-6e3e38611eab div.sk-toggleable__content {max-height: 0;max-width: 0;overflow: hidden;text-align: left;background-color: #f0f8ff;}#sk-b649568c-a396-43ac-81ca-6e3e38611eab div.sk-toggleable__content pre {margin: 0.2em;color: black;border-radius: 0.25em;background-color: #f0f8ff;}#sk-b649568c-a396-43ac-81ca-6e3e38611eab input.sk-toggleable__control:checked~div.sk-toggleable__content {max-height: 200px;max-width: 100%;overflow: auto;}#sk-b649568c-a396-43ac-81ca-6e3e38611eab div.sk-estimator input.sk-toggleable__control:checked~label.sk-toggleable__label {background-color: #d4ebff;}#sk-b649568c-a396-43ac-81ca-6e3e38611eab div.sk-label input.sk-toggleable__control:checked~label.sk-toggleable__label {background-color: #d4ebff;}#sk-b649568c-a396-43ac-81ca-6e3e38611eab input.sk-hidden--visually {border: 0;clip: rect(1px 1px 1px 1px);clip: rect(1px, 1px, 1px, 1px);height: 1px;margin: -1px;overflow: hidden;padding: 0;position: absolute;width: 1px;}#sk-b649568c-a396-43ac-81ca-6e3e38611eab div.sk-estimator {font-family: monospace;background-color: #f0f8ff;margin: 0.25em 0.25em;border: 1px dotted black;border-radius: 0.25em;box-sizing: border-box;}#sk-b649568c-a396-43ac-81ca-6e3e38611eab div.sk-estimator:hover {background-color: #d4ebff;}#sk-b649568c-a396-43ac-81ca-6e3e38611eab div.sk-parallel-item::after {content: \"\";width: 100%;border-bottom: 1px solid gray;flex-grow: 1;}#sk-b649568c-a396-43ac-81ca-6e3e38611eab div.sk-label:hover label.sk-toggleable__label {background-color: #d4ebff;}#sk-b649568c-a396-43ac-81ca-6e3e38611eab div.sk-serial::before {content: \"\";position: absolute;border-left: 1px solid gray;box-sizing: border-box;top: 2em;bottom: 0;left: 50%;}#sk-b649568c-a396-43ac-81ca-6e3e38611eab div.sk-serial {display: flex;flex-direction: column;align-items: center;background-color: white;}#sk-b649568c-a396-43ac-81ca-6e3e38611eab div.sk-item {z-index: 1;}#sk-b649568c-a396-43ac-81ca-6e3e38611eab div.sk-parallel {display: flex;align-items: stretch;justify-content: center;background-color: white;}#sk-b649568c-a396-43ac-81ca-6e3e38611eab div.sk-parallel-item {display: flex;flex-direction: column;position: relative;background-color: white;}#sk-b649568c-a396-43ac-81ca-6e3e38611eab div.sk-parallel-item:first-child::after {align-self: flex-end;width: 50%;}#sk-b649568c-a396-43ac-81ca-6e3e38611eab div.sk-parallel-item:last-child::after {align-self: flex-start;width: 50%;}#sk-b649568c-a396-43ac-81ca-6e3e38611eab div.sk-parallel-item:only-child::after {width: 0;}#sk-b649568c-a396-43ac-81ca-6e3e38611eab div.sk-dashed-wrapped {border: 1px dashed gray;margin: 0.2em;box-sizing: border-box;padding-bottom: 0.1em;background-color: white;position: relative;}#sk-b649568c-a396-43ac-81ca-6e3e38611eab div.sk-label label {font-family: monospace;font-weight: bold;background-color: white;display: inline-block;line-height: 1.2em;}#sk-b649568c-a396-43ac-81ca-6e3e38611eab div.sk-label-container {position: relative;z-index: 2;text-align: center;}#sk-b649568c-a396-43ac-81ca-6e3e38611eab div.sk-container {display: inline-block;position: relative;}</style><div id=\"sk-b649568c-a396-43ac-81ca-6e3e38611eab\" class\"sk-top-container\"><div class=\"sk-container\"><div class=\"sk-item sk-dashed-wrapped\"><div class=\"sk-label-container\"><div class=\"sk-label sk-toggleable\"><input class=\"sk-toggleable__control sk-hidden--visually\" id=\"29790a2d-a1f6-462a-ad72-51169c8f6a78\" type=\"checkbox\" ><label class=\"sk-toggleable__label\" for=\"29790a2d-a1f6-462a-ad72-51169c8f6a78\">Pipeline</label><div class=\"sk-toggleable__content\"><pre>Pipeline(steps=[('preprocessor',\n",
       "                 ColumnTransformer(transformers=[('categorical',\n",
       "                                                  OneHotEncoder(handle_unknown='ignore'),\n",
       "                                                  ['full_name',\n",
       "                                                   'primary_position',\n",
       "                                                   'opposing_team',\n",
       "                                                   'period_type']),\n",
       "                                                 ('numerical', StandardScaler(),\n",
       "                                                  ['height', 'weight',\n",
       "                                                   'x_coordinate',\n",
       "                                                   'y_coordinate',\n",
       "                                                   'goal_ratio'])])),\n",
       "                ('classifier', SVC(class_weight='balanced'))])</pre></div></div></div><div class=\"sk-serial\"><div class=\"sk-item sk-dashed-wrapped\"><div class=\"sk-label-container\"><div class=\"sk-label sk-toggleable\"><input class=\"sk-toggleable__control sk-hidden--visually\" id=\"909d4003-dc21-441b-a7b2-a06366b3b4d5\" type=\"checkbox\" ><label class=\"sk-toggleable__label\" for=\"909d4003-dc21-441b-a7b2-a06366b3b4d5\">preprocessor: ColumnTransformer</label><div class=\"sk-toggleable__content\"><pre>ColumnTransformer(transformers=[('categorical',\n",
       "                                 OneHotEncoder(handle_unknown='ignore'),\n",
       "                                 ['full_name', 'primary_position',\n",
       "                                  'opposing_team', 'period_type']),\n",
       "                                ('numerical', StandardScaler(),\n",
       "                                 ['height', 'weight', 'x_coordinate',\n",
       "                                  'y_coordinate', 'goal_ratio'])])</pre></div></div></div><div class=\"sk-parallel\"><div class=\"sk-parallel-item\"><div class=\"sk-item\"><div class=\"sk-label-container\"><div class=\"sk-label sk-toggleable\"><input class=\"sk-toggleable__control sk-hidden--visually\" id=\"1da7e2e5-8028-406e-b927-172c5385dba8\" type=\"checkbox\" ><label class=\"sk-toggleable__label\" for=\"1da7e2e5-8028-406e-b927-172c5385dba8\">categorical</label><div class=\"sk-toggleable__content\"><pre>['full_name', 'primary_position', 'opposing_team', 'period_type']</pre></div></div></div><div class=\"sk-serial\"><div class=\"sk-item\"><div class=\"sk-estimator sk-toggleable\"><input class=\"sk-toggleable__control sk-hidden--visually\" id=\"ea4c4771-6f21-4956-97e6-ff2152cf792b\" type=\"checkbox\" ><label class=\"sk-toggleable__label\" for=\"ea4c4771-6f21-4956-97e6-ff2152cf792b\">OneHotEncoder</label><div class=\"sk-toggleable__content\"><pre>OneHotEncoder(handle_unknown='ignore')</pre></div></div></div></div></div></div><div class=\"sk-parallel-item\"><div class=\"sk-item\"><div class=\"sk-label-container\"><div class=\"sk-label sk-toggleable\"><input class=\"sk-toggleable__control sk-hidden--visually\" id=\"e0204b6e-3baf-4788-a910-c4137abd7e96\" type=\"checkbox\" ><label class=\"sk-toggleable__label\" for=\"e0204b6e-3baf-4788-a910-c4137abd7e96\">numerical</label><div class=\"sk-toggleable__content\"><pre>['height', 'weight', 'x_coordinate', 'y_coordinate', 'goal_ratio']</pre></div></div></div><div class=\"sk-serial\"><div class=\"sk-item\"><div class=\"sk-estimator sk-toggleable\"><input class=\"sk-toggleable__control sk-hidden--visually\" id=\"24a8033c-c770-49ed-8dfe-133a5303ea23\" type=\"checkbox\" ><label class=\"sk-toggleable__label\" for=\"24a8033c-c770-49ed-8dfe-133a5303ea23\">StandardScaler</label><div class=\"sk-toggleable__content\"><pre>StandardScaler()</pre></div></div></div></div></div></div></div></div><div class=\"sk-item\"><div class=\"sk-estimator sk-toggleable\"><input class=\"sk-toggleable__control sk-hidden--visually\" id=\"0de7a53c-93c4-45b3-b42e-3fde868fda03\" type=\"checkbox\" ><label class=\"sk-toggleable__label\" for=\"0de7a53c-93c4-45b3-b42e-3fde868fda03\">SVC</label><div class=\"sk-toggleable__content\"><pre>SVC(class_weight='balanced')</pre></div></div></div></div></div></div></div>"
      ],
      "text/plain": [
       "Pipeline(steps=[('preprocessor',\n",
       "                 ColumnTransformer(transformers=[('categorical',\n",
       "                                                  OneHotEncoder(handle_unknown='ignore'),\n",
       "                                                  ['full_name',\n",
       "                                                   'primary_position',\n",
       "                                                   'opposing_team',\n",
       "                                                   'period_type']),\n",
       "                                                 ('numerical', StandardScaler(),\n",
       "                                                  ['height', 'weight',\n",
       "                                                   'x_coordinate',\n",
       "                                                   'y_coordinate',\n",
       "                                                   'goal_ratio'])])),\n",
       "                ('classifier', SVC(class_weight='balanced'))])"
      ]
     },
     "execution_count": 254,
     "metadata": {},
     "output_type": "execute_result"
    }
   ],
   "source": [
    "# create pipeline\n",
    "pipeline_svm = pipeline.Pipeline(steps=[\n",
    "    ('preprocessor', preprocessor),\n",
    "    ('classifier', model_svm)\n",
    "])\n",
    "set_config(display='diagram')\n",
    "pipeline_svm"
   ]
  },
  {
   "cell_type": "code",
   "execution_count": 255,
   "id": "61196b94",
   "metadata": {},
   "outputs": [],
   "source": [
    "# train model\n"
   ]
  },
  {
   "cell_type": "code",
   "execution_count": null,
   "id": "2a98ebec",
   "metadata": {},
   "outputs": [],
   "source": [
    "# tune hyperparameters\n"
   ]
  },
  {
   "cell_type": "code",
   "execution_count": null,
   "id": "cc0a6d63",
   "metadata": {},
   "outputs": [],
   "source": [
    "# classify test data and compare accuracy\n"
   ]
  },
  {
   "cell_type": "markdown",
   "id": "fe34650c",
   "metadata": {},
   "source": [
    "### Random Forest Classification\n",
    "___"
   ]
  },
  {
   "cell_type": "code",
   "execution_count": 261,
   "id": "e3a0be31",
   "metadata": {},
   "outputs": [],
   "source": [
    "# create model\n",
    "model_rf = ensemble.RandomForestClassifier(max_depth=2, random_state=0)"
   ]
  },
  {
   "cell_type": "code",
   "execution_count": 262,
   "id": "37c871f8",
   "metadata": {},
   "outputs": [
    {
     "data": {
      "text/html": [
       "<style>#sk-d5a49285-3599-4fde-abf6-900781cee996 {color: black;background-color: white;}#sk-d5a49285-3599-4fde-abf6-900781cee996 pre{padding: 0;}#sk-d5a49285-3599-4fde-abf6-900781cee996 div.sk-toggleable {background-color: white;}#sk-d5a49285-3599-4fde-abf6-900781cee996 label.sk-toggleable__label {cursor: pointer;display: block;width: 100%;margin-bottom: 0;padding: 0.2em 0.3em;box-sizing: border-box;text-align: center;}#sk-d5a49285-3599-4fde-abf6-900781cee996 div.sk-toggleable__content {max-height: 0;max-width: 0;overflow: hidden;text-align: left;background-color: #f0f8ff;}#sk-d5a49285-3599-4fde-abf6-900781cee996 div.sk-toggleable__content pre {margin: 0.2em;color: black;border-radius: 0.25em;background-color: #f0f8ff;}#sk-d5a49285-3599-4fde-abf6-900781cee996 input.sk-toggleable__control:checked~div.sk-toggleable__content {max-height: 200px;max-width: 100%;overflow: auto;}#sk-d5a49285-3599-4fde-abf6-900781cee996 div.sk-estimator input.sk-toggleable__control:checked~label.sk-toggleable__label {background-color: #d4ebff;}#sk-d5a49285-3599-4fde-abf6-900781cee996 div.sk-label input.sk-toggleable__control:checked~label.sk-toggleable__label {background-color: #d4ebff;}#sk-d5a49285-3599-4fde-abf6-900781cee996 input.sk-hidden--visually {border: 0;clip: rect(1px 1px 1px 1px);clip: rect(1px, 1px, 1px, 1px);height: 1px;margin: -1px;overflow: hidden;padding: 0;position: absolute;width: 1px;}#sk-d5a49285-3599-4fde-abf6-900781cee996 div.sk-estimator {font-family: monospace;background-color: #f0f8ff;margin: 0.25em 0.25em;border: 1px dotted black;border-radius: 0.25em;box-sizing: border-box;}#sk-d5a49285-3599-4fde-abf6-900781cee996 div.sk-estimator:hover {background-color: #d4ebff;}#sk-d5a49285-3599-4fde-abf6-900781cee996 div.sk-parallel-item::after {content: \"\";width: 100%;border-bottom: 1px solid gray;flex-grow: 1;}#sk-d5a49285-3599-4fde-abf6-900781cee996 div.sk-label:hover label.sk-toggleable__label {background-color: #d4ebff;}#sk-d5a49285-3599-4fde-abf6-900781cee996 div.sk-serial::before {content: \"\";position: absolute;border-left: 1px solid gray;box-sizing: border-box;top: 2em;bottom: 0;left: 50%;}#sk-d5a49285-3599-4fde-abf6-900781cee996 div.sk-serial {display: flex;flex-direction: column;align-items: center;background-color: white;}#sk-d5a49285-3599-4fde-abf6-900781cee996 div.sk-item {z-index: 1;}#sk-d5a49285-3599-4fde-abf6-900781cee996 div.sk-parallel {display: flex;align-items: stretch;justify-content: center;background-color: white;}#sk-d5a49285-3599-4fde-abf6-900781cee996 div.sk-parallel-item {display: flex;flex-direction: column;position: relative;background-color: white;}#sk-d5a49285-3599-4fde-abf6-900781cee996 div.sk-parallel-item:first-child::after {align-self: flex-end;width: 50%;}#sk-d5a49285-3599-4fde-abf6-900781cee996 div.sk-parallel-item:last-child::after {align-self: flex-start;width: 50%;}#sk-d5a49285-3599-4fde-abf6-900781cee996 div.sk-parallel-item:only-child::after {width: 0;}#sk-d5a49285-3599-4fde-abf6-900781cee996 div.sk-dashed-wrapped {border: 1px dashed gray;margin: 0.2em;box-sizing: border-box;padding-bottom: 0.1em;background-color: white;position: relative;}#sk-d5a49285-3599-4fde-abf6-900781cee996 div.sk-label label {font-family: monospace;font-weight: bold;background-color: white;display: inline-block;line-height: 1.2em;}#sk-d5a49285-3599-4fde-abf6-900781cee996 div.sk-label-container {position: relative;z-index: 2;text-align: center;}#sk-d5a49285-3599-4fde-abf6-900781cee996 div.sk-container {display: inline-block;position: relative;}</style><div id=\"sk-d5a49285-3599-4fde-abf6-900781cee996\" class\"sk-top-container\"><div class=\"sk-container\"><div class=\"sk-item sk-dashed-wrapped\"><div class=\"sk-label-container\"><div class=\"sk-label sk-toggleable\"><input class=\"sk-toggleable__control sk-hidden--visually\" id=\"c6b12270-641d-470b-9898-a31b6bd1fb54\" type=\"checkbox\" ><label class=\"sk-toggleable__label\" for=\"c6b12270-641d-470b-9898-a31b6bd1fb54\">Pipeline</label><div class=\"sk-toggleable__content\"><pre>Pipeline(steps=[('preprocessor',\n",
       "                 ColumnTransformer(transformers=[('categorical',\n",
       "                                                  OneHotEncoder(handle_unknown='ignore'),\n",
       "                                                  ['full_name',\n",
       "                                                   'primary_position',\n",
       "                                                   'opposing_team',\n",
       "                                                   'period_type']),\n",
       "                                                 ('numerical', StandardScaler(),\n",
       "                                                  ['height', 'weight',\n",
       "                                                   'x_coordinate',\n",
       "                                                   'y_coordinate',\n",
       "                                                   'goal_ratio'])])),\n",
       "                ('classifier',\n",
       "                 RandomForestClassifier(max_depth=2, random_state=0))])</pre></div></div></div><div class=\"sk-serial\"><div class=\"sk-item sk-dashed-wrapped\"><div class=\"sk-label-container\"><div class=\"sk-label sk-toggleable\"><input class=\"sk-toggleable__control sk-hidden--visually\" id=\"de5440db-a5fd-46fd-8e67-24a331210089\" type=\"checkbox\" ><label class=\"sk-toggleable__label\" for=\"de5440db-a5fd-46fd-8e67-24a331210089\">preprocessor: ColumnTransformer</label><div class=\"sk-toggleable__content\"><pre>ColumnTransformer(transformers=[('categorical',\n",
       "                                 OneHotEncoder(handle_unknown='ignore'),\n",
       "                                 ['full_name', 'primary_position',\n",
       "                                  'opposing_team', 'period_type']),\n",
       "                                ('numerical', StandardScaler(),\n",
       "                                 ['height', 'weight', 'x_coordinate',\n",
       "                                  'y_coordinate', 'goal_ratio'])])</pre></div></div></div><div class=\"sk-parallel\"><div class=\"sk-parallel-item\"><div class=\"sk-item\"><div class=\"sk-label-container\"><div class=\"sk-label sk-toggleable\"><input class=\"sk-toggleable__control sk-hidden--visually\" id=\"4e946984-50cd-4bc5-ae5d-4703ccc6f0bb\" type=\"checkbox\" ><label class=\"sk-toggleable__label\" for=\"4e946984-50cd-4bc5-ae5d-4703ccc6f0bb\">categorical</label><div class=\"sk-toggleable__content\"><pre>['full_name', 'primary_position', 'opposing_team', 'period_type']</pre></div></div></div><div class=\"sk-serial\"><div class=\"sk-item\"><div class=\"sk-estimator sk-toggleable\"><input class=\"sk-toggleable__control sk-hidden--visually\" id=\"4a3fdaaa-2517-4dcc-90d9-43b91734dade\" type=\"checkbox\" ><label class=\"sk-toggleable__label\" for=\"4a3fdaaa-2517-4dcc-90d9-43b91734dade\">OneHotEncoder</label><div class=\"sk-toggleable__content\"><pre>OneHotEncoder(handle_unknown='ignore')</pre></div></div></div></div></div></div><div class=\"sk-parallel-item\"><div class=\"sk-item\"><div class=\"sk-label-container\"><div class=\"sk-label sk-toggleable\"><input class=\"sk-toggleable__control sk-hidden--visually\" id=\"a6a74a24-1db5-4db3-aa33-f38e5e029c6f\" type=\"checkbox\" ><label class=\"sk-toggleable__label\" for=\"a6a74a24-1db5-4db3-aa33-f38e5e029c6f\">numerical</label><div class=\"sk-toggleable__content\"><pre>['height', 'weight', 'x_coordinate', 'y_coordinate', 'goal_ratio']</pre></div></div></div><div class=\"sk-serial\"><div class=\"sk-item\"><div class=\"sk-estimator sk-toggleable\"><input class=\"sk-toggleable__control sk-hidden--visually\" id=\"835a39d7-362f-4509-ac16-81932c123347\" type=\"checkbox\" ><label class=\"sk-toggleable__label\" for=\"835a39d7-362f-4509-ac16-81932c123347\">StandardScaler</label><div class=\"sk-toggleable__content\"><pre>StandardScaler()</pre></div></div></div></div></div></div></div></div><div class=\"sk-item\"><div class=\"sk-estimator sk-toggleable\"><input class=\"sk-toggleable__control sk-hidden--visually\" id=\"4a3c42ce-44fa-4de3-9de3-cf556a826ecd\" type=\"checkbox\" ><label class=\"sk-toggleable__label\" for=\"4a3c42ce-44fa-4de3-9de3-cf556a826ecd\">RandomForestClassifier</label><div class=\"sk-toggleable__content\"><pre>RandomForestClassifier(max_depth=2, random_state=0)</pre></div></div></div></div></div></div></div>"
      ],
      "text/plain": [
       "Pipeline(steps=[('preprocessor',\n",
       "                 ColumnTransformer(transformers=[('categorical',\n",
       "                                                  OneHotEncoder(handle_unknown='ignore'),\n",
       "                                                  ['full_name',\n",
       "                                                   'primary_position',\n",
       "                                                   'opposing_team',\n",
       "                                                   'period_type']),\n",
       "                                                 ('numerical', StandardScaler(),\n",
       "                                                  ['height', 'weight',\n",
       "                                                   'x_coordinate',\n",
       "                                                   'y_coordinate',\n",
       "                                                   'goal_ratio'])])),\n",
       "                ('classifier',\n",
       "                 RandomForestClassifier(max_depth=2, random_state=0))])"
      ]
     },
     "execution_count": 262,
     "metadata": {},
     "output_type": "execute_result"
    }
   ],
   "source": [
    "# create pipeline\n",
    "pipeline_rf = pipeline.Pipeline(steps=[\n",
    "    ('preprocessor', preprocessor),\n",
    "    ('classifier', model_rf)\n",
    "])\n",
    "set_config(display='diagram')\n",
    "pipeline_rf"
   ]
  },
  {
   "cell_type": "code",
   "execution_count": null,
   "id": "02d75fe9",
   "metadata": {},
   "outputs": [],
   "source": [
    "# train model\n"
   ]
  },
  {
   "cell_type": "code",
   "execution_count": null,
   "id": "06beee45",
   "metadata": {},
   "outputs": [],
   "source": [
    "# tune hyperparameters\n"
   ]
  },
  {
   "cell_type": "code",
   "execution_count": null,
   "id": "4d2340fb",
   "metadata": {},
   "outputs": [],
   "source": [
    "# classify test data and compare accuracy\n"
   ]
  },
  {
   "cell_type": "markdown",
   "id": "72b6de5f",
   "metadata": {},
   "source": [
    "### Results and Analysis\n",
    "___"
   ]
  },
  {
   "cell_type": "code",
   "execution_count": null,
   "id": "c4d96839",
   "metadata": {},
   "outputs": [],
   "source": []
  },
  {
   "cell_type": "markdown",
   "id": "34217d25",
   "metadata": {},
   "source": [
    "### Model Export\n",
    "___"
   ]
  },
  {
   "cell_type": "code",
   "execution_count": null,
   "id": "532bd067",
   "metadata": {},
   "outputs": [],
   "source": []
  }
 ],
 "metadata": {
  "kernelspec": {
   "display_name": "Python 3",
   "language": "python",
   "name": "python3"
  },
  "language_info": {
   "codemirror_mode": {
    "name": "ipython",
    "version": 3
   },
   "file_extension": ".py",
   "mimetype": "text/x-python",
   "name": "python",
   "nbconvert_exporter": "python",
   "pygments_lexer": "ipython3",
   "version": "3.9.3"
  }
 },
 "nbformat": 4,
 "nbformat_minor": 5
}
