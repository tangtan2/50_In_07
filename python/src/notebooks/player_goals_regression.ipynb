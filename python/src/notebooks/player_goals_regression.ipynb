{
 "cells": [
  {
   "cell_type": "markdown",
   "id": "9bd33a0e",
   "metadata": {},
   "source": [
    "# Predicting Player Goal Counts for the Maple Leafs\n",
    "___"
   ]
  },
  {
   "cell_type": "code",
   "execution_count": 232,
   "id": "dd5f03bb",
   "metadata": {},
   "outputs": [],
   "source": [
    "import psycopg2\n",
    "import json\n",
    "import pandas as pd\n",
    "import numpy as np\n",
    "import matplotlib.pyplot as plt\n",
    "import matplotlib.ticker as mtick\n",
    "from sklearn import svm, preprocessing, pipeline, set_config, compose, model_selection"
   ]
  },
  {
   "cell_type": "markdown",
   "id": "d324d45e",
   "metadata": {},
   "source": [
    "### Data Preparation\n",
    "___"
   ]
  },
  {
   "cell_type": "code",
   "execution_count": 193,
   "id": "33fbcfc4",
   "metadata": {},
   "outputs": [],
   "source": [
    "# create connection to database\n",
    "connection = psycopg2.connect(\n",
    "    host=\"localhost\",\n",
    "    database=\"50_in_07\",\n",
    "    user=\"tanyatang\")"
   ]
  },
  {
   "cell_type": "code",
   "execution_count": null,
   "id": "faf08a9c",
   "metadata": {},
   "outputs": [],
   "source": []
  },
  {
   "cell_type": "code",
   "execution_count": 195,
   "id": "86dfe978",
   "metadata": {},
   "outputs": [],
   "source": [
    "# close connection\n",
    "connection.close()"
   ]
  },
  {
   "cell_type": "markdown",
   "id": "e884d03f",
   "metadata": {},
   "source": [
    "### Data Visualization\n",
    "___"
   ]
  },
  {
   "cell_type": "code",
   "execution_count": 180,
   "id": "d353a6a0",
   "metadata": {},
   "outputs": [],
   "source": [
    "# set maplotlib parameters\n",
    "plt.style.use('seaborn-darkgrid')\n",
    "plt.rc('axes', labelsize=12)\n",
    "plt.rc('xtick', labelsize=10)\n",
    "plt.rc('ytick', labelsize=10)\n",
    "plt.rc('legend', fontsize=10)\n",
    "plt.rcParams['figure.figsize'] = (10, 6)"
   ]
  },
  {
   "cell_type": "markdown",
   "id": "53fbf452",
   "metadata": {},
   "source": [
    "### Elastic-Net Regression\n",
    "___"
   ]
  },
  {
   "cell_type": "code",
   "execution_count": null,
   "id": "00c7ced9",
   "metadata": {},
   "outputs": [],
   "source": []
  },
  {
   "cell_type": "markdown",
   "id": "4a7d0d3c",
   "metadata": {},
   "source": [
    "### Multi-Layer Perceptron Regression\n",
    "___"
   ]
  },
  {
   "cell_type": "code",
   "execution_count": null,
   "id": "958aa947",
   "metadata": {},
   "outputs": [],
   "source": []
  },
  {
   "cell_type": "markdown",
   "id": "a02b0462",
   "metadata": {},
   "source": [
    "### Results and Analysis\n",
    "___"
   ]
  },
  {
   "cell_type": "code",
   "execution_count": null,
   "id": "d2672949",
   "metadata": {},
   "outputs": [],
   "source": []
  },
  {
   "cell_type": "markdown",
   "id": "412eb1ca",
   "metadata": {},
   "source": [
    "### Model Export\n",
    "___"
   ]
  },
  {
   "cell_type": "code",
   "execution_count": null,
   "id": "b20c949f",
   "metadata": {},
   "outputs": [],
   "source": []
  }
 ],
 "metadata": {
  "kernelspec": {
   "display_name": "Python 3",
   "language": "python",
   "name": "python3"
  },
  "language_info": {
   "codemirror_mode": {
    "name": "ipython",
    "version": 3
   },
   "file_extension": ".py",
   "mimetype": "text/x-python",
   "name": "python",
   "nbconvert_exporter": "python",
   "pygments_lexer": "ipython3",
   "version": "3.9.3"
  }
 },
 "nbformat": 4,
 "nbformat_minor": 5
}
